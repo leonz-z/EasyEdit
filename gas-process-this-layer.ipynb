{
 "cells": [
  {
   "cell_type": "code",
   "execution_count": 42,
   "metadata": {},
   "outputs": [],
   "source": [
    "import json\n",
    "import os\n",
    "import numpy as np\n",
    "# import pandas as pd\n",
    "# import matplotlib.pyplot as plt\n",
    "from tqdm import tqdm"
   ]
  },
  {
   "cell_type": "code",
   "execution_count": 43,
   "metadata": {},
   "outputs": [],
   "source": [
    "knb_cache = '/share/lyc/knb-dict-n/'\n",
    "# 1\n",
    "# dataset='counterfact'\n",
    "# dataset='zsre'\n",
    "dataset='recent' \n",
    "# 2\n",
    "model = \"Qwen2-7B-Instruct\"\n",
    "knb_layer='this_layer'\n",
    "# 3\n",
    "# weight_name_list = ['attn.k_proj', 'attn.v_proj', 'attn.q_proj', 'attn.out_proj', 'mlp.fc_in', 'mlp.fc_out']\n",
    "# weight_name_list = ['mlp.fc_in', 'mlp.fc_out']\n",
    "# model = 'llama2-7b-chat'\n",
    "# weight_name_list = ['self_attn.q_proj', 'self_attn.k_proj', 'self_attn.v_proj', 'self_attn.o_proj', 'mlp.up_proj', 'mlp.gate_proj', 'mlp.down_proj']\n",
    "# weight_name_list = ['mlp.up_proj', 'mlp.gate_proj', 'mlp.down_proj']\n",
    "weight_name_list = ['mlp.up_proj', 'mlp.down_proj']"
   ]
  },
  {
   "cell_type": "code",
   "execution_count": 44,
   "metadata": {},
   "outputs": [
    {
     "name": "stdout",
     "output_type": "stream",
     "text": [
      "/share/lyc/gas/Qwen2-7B-Instruct_recent_answer_next_token_target_new/mlp.up_proj\n",
      "['0-100-Qwen2-7B-Instruct-0,28.json', '100-200-Qwen2-7B-Instruct-0,28.json', '200-300-Qwen2-7B-Instruct-0,28.json', '300-400-Qwen2-7B-Instruct-0,28.json']\n"
     ]
    },
    {
     "name": "stderr",
     "output_type": "stream",
     "text": [
      "100%|██████████| 4/4 [00:24<00:00,  6.14s/it]\n"
     ]
    },
    {
     "name": "stdout",
     "output_type": "stream",
     "text": [
      "400\n"
     ]
    },
    {
     "name": "stderr",
     "output_type": "stream",
     "text": [
      "100%|██████████| 400/400 [01:35<00:00,  4.19it/s]\n"
     ]
    },
    {
     "name": "stdout",
     "output_type": "stream",
     "text": [
      "(400, 28, 18944)\n",
      "/share/lyc/gas/Qwen2-7B-Instruct_recent_answer_next_token_target_new/mlp.down_proj\n",
      "['0-100-Qwen2-7B-Instruct-0,28.json', '100-200-Qwen2-7B-Instruct-0,28.json', '200-300-Qwen2-7B-Instruct-0,28.json', '300-400-Qwen2-7B-Instruct-0,28.json']\n"
     ]
    },
    {
     "name": "stderr",
     "output_type": "stream",
     "text": [
      "100%|██████████| 4/4 [00:04<00:00,  1.16s/it]\n"
     ]
    },
    {
     "name": "stdout",
     "output_type": "stream",
     "text": [
      "400\n"
     ]
    },
    {
     "name": "stderr",
     "output_type": "stream",
     "text": [
      "100%|██████████| 400/400 [00:17<00:00, 23.39it/s]\n"
     ]
    },
    {
     "name": "stdout",
     "output_type": "stream",
     "text": [
      "(400, 28, 3584)\n"
     ]
    }
   ],
   "source": [
    "knb_gas = {}\n",
    "for weight_name in weight_name_list:\n",
    "    root_dir = (\n",
    "        f\"/share/lyc/gas/{model}_{dataset}_answer_next_token_target_new/{weight_name}\"\n",
    "    )\n",
    "    print(root_dir)\n",
    "    # gas_weight_name, knb_weight_name = 'mlp.fc_in', 'mlp.fc_out'\n",
    "    # gas_weight_name = knb_weight_name = weight_name\n",
    "    file_name_list = os.listdir(root_dir)\n",
    "    file_name_list.sort()\n",
    "    print(file_name_list)\n",
    "    # 拼接所有gas\n",
    "    lines_all = []\n",
    "    for file_name in tqdm(file_name_list):\n",
    "        # print(file_name)\n",
    "        path = os.path.join(root_dir, file_name)\n",
    "        with open(path, 'r') as f:\n",
    "            lines = f.readlines()\n",
    "        lines_all.extend(lines)\n",
    "    print(len(lines_all)) # 885 cf\n",
    "    # 转换为numpy array格式\n",
    "    gas_list = []\n",
    "    for line in tqdm(lines_all):\n",
    "        gas = json.loads(line)\n",
    "        gas = np.array(gas)\n",
    "        gas_list.append(gas)\n",
    "    gas_array = np.array(gas_list)\n",
    "    print(gas_array.shape) # (885, 28, 16384)\n",
    "    knb_gas[weight_name] = gas_array"
   ]
  },
  {
   "cell_type": "code",
   "execution_count": 45,
   "metadata": {},
   "outputs": [
    {
     "name": "stdout",
     "output_type": "stream",
     "text": [
      "/home/yantao/llm2024/knb-dict-n/Qwen2-7B-Instruct/recent/this_layer\n"
     ]
    }
   ],
   "source": [
    "# 创建knb path\n",
    "full_path = os.path.join(\n",
    "    knb_cache, f\"/home/yantao/llm2024/knb-dict-n/{model}/{dataset}/{knb_layer}\"\n",
    ")\n",
    "if not os.path.exists(full_path):\n",
    "    os.makedirs(full_path, exist_ok=True)\n",
    "print(full_path)"
   ]
  },
  {
   "cell_type": "code",
   "execution_count": 46,
   "metadata": {},
   "outputs": [
    {
     "name": "stderr",
     "output_type": "stream",
     "text": [
      "  0%|          | 0/4 [00:00<?, ?it/s]"
     ]
    },
    {
     "name": "stdout",
     "output_type": "stream",
     "text": [
      "bs100 p90 mlp.up_proj mlp.down_proj \n",
      "p91 mlp.up_proj mlp.down_proj \n",
      "p92 mlp.up_proj mlp.down_proj \n",
      "p93 mlp.up_proj mlp.down_proj \n",
      "p94 mlp.up_proj mlp.down_proj \n",
      "p95 mlp.up_proj mlp.down_proj \n",
      "p96 mlp.up_proj mlp.down_proj \n",
      "p97 mlp.up_proj mlp.down_proj \n",
      "p98 mlp.up_proj mlp.down_proj \n",
      "p99 mlp.up_proj mlp.down_proj "
     ]
    },
    {
     "name": "stderr",
     "output_type": "stream",
     "text": [
      " 25%|██▌       | 1/4 [00:02<00:06,  2.02s/it]"
     ]
    },
    {
     "name": "stdout",
     "output_type": "stream",
     "text": [
      "\n",
      "bs200 p90 mlp.up_proj mlp.down_proj \n",
      "p91 mlp.up_proj mlp.down_proj \n",
      "p92 mlp.up_proj mlp.down_proj \n",
      "p93 mlp.up_proj mlp.down_proj \n",
      "p94 mlp.up_proj mlp.down_proj \n",
      "p95 mlp.up_proj mlp.down_proj \n",
      "p96 mlp.up_proj mlp.down_proj \n",
      "p97 mlp.up_proj mlp.down_proj \n",
      "p98 mlp.up_proj mlp.down_proj \n",
      "p99 mlp.up_proj "
     ]
    },
    {
     "name": "stderr",
     "output_type": "stream",
     "text": [
      " 50%|█████     | 2/4 [00:05<00:05,  2.75s/it]"
     ]
    },
    {
     "name": "stdout",
     "output_type": "stream",
     "text": [
      "mlp.down_proj \n",
      "bs300 p90 mlp.up_proj mlp.down_proj \n",
      "p91 mlp.up_proj mlp.down_proj \n",
      "p92 mlp.up_proj mlp.down_proj \n",
      "p93 mlp.up_proj mlp.down_proj \n",
      "p94 mlp.up_proj mlp.down_proj \n",
      "p95 mlp.up_proj mlp.down_proj \n",
      "p96 mlp.up_proj mlp.down_proj \n",
      "p97 mlp.up_proj mlp.down_proj \n",
      "p98 mlp.up_proj mlp.down_proj \n",
      "p99 mlp.up_proj "
     ]
    },
    {
     "name": "stderr",
     "output_type": "stream",
     "text": [
      " 75%|███████▌  | 3/4 [00:09<00:03,  3.55s/it]"
     ]
    },
    {
     "name": "stdout",
     "output_type": "stream",
     "text": [
      "mlp.down_proj \n",
      "bs400 p90 mlp.up_proj mlp.down_proj \n",
      "p91 mlp.up_proj mlp.down_proj \n",
      "p92 mlp.up_proj mlp.down_proj \n",
      "p93 mlp.up_proj mlp.down_proj \n",
      "p94 mlp.up_proj mlp.down_proj \n",
      "p95 mlp.up_proj mlp.down_proj \n",
      "p96 mlp.up_proj mlp.down_proj \n",
      "p97 mlp.up_proj mlp.down_proj \n",
      "p98 mlp.up_proj mlp.down_proj \n",
      "p99 mlp.up_proj "
     ]
    },
    {
     "name": "stderr",
     "output_type": "stream",
     "text": [
      "100%|██████████| 4/4 [00:15<00:00,  3.89s/it]"
     ]
    },
    {
     "name": "stdout",
     "output_type": "stream",
     "text": [
      "mlp.down_proj \n"
     ]
    },
    {
     "name": "stderr",
     "output_type": "stream",
     "text": [
      "\n"
     ]
    }
   ],
   "source": [
    "# 知识定位的数据条数：100~all\n",
    "n = gas_array.shape[0]\n",
    "n_layers = gas_array.shape[1]\n",
    "# 分位数,选取gas分数最高的1-p%作为knb\n",
    "# p\n",
    "p_list = [90,91,92,93,94,95,96,97,98,99]\n",
    "# bs_list = [100,200,300,400,500,600,700,800,900,1000]\n",
    "# n\n",
    "# bs_list = [100,200,300,400,500,600,700,800]\n",
    "bs_list = [100,200,300,400]\n",
    "for bs in tqdm(bs_list):\n",
    "    print(f'bs{bs}', end=' ')\n",
    "    for p in p_list:\n",
    "        print(f'p{p}', end=' ')\n",
    "        \n",
    "        layer_knb_dict_max_dict, layer_knb_dict_mean_dict = {}, {}\n",
    "        for weight_name, gas_array in knb_gas.items():\n",
    "            print(weight_name, end=' ')\n",
    "            gas_scores = gas_array[0:bs]\n",
    "            # max\n",
    "            gas_max = np.max(gas_scores, axis=0)\n",
    "            # w [14096, 4096]\n",
    "            # (885, 28, 4096) -> [28,4096]\n",
    "            knb_idx_max = np.argwhere((gas_max > np.percentile(gas_max, p)) & (gas_max > 0))\n",
    "            layer_knb_dict_max = {}\n",
    "            for l in range(n_layers):\n",
    "                layer_knb_dict_max[l] = knb_idx_max[knb_idx_max[:, 0] == l][:, 1].tolist()\n",
    "            layer_knb_dict_max_dict[weight_name] = layer_knb_dict_max\n",
    "            # mean\n",
    "            gas_mean = np.mean(gas_scores, axis=0)\n",
    "            knb_idx_mean = np.argwhere((gas_mean > np.percentile(gas_mean, p)) & (gas_mean > 0))\n",
    "            layer_knb_dict_mean = {}\n",
    "            for l in range(n_layers):\n",
    "                layer_knb_dict_mean[l] = knb_idx_mean[knb_idx_mean[:, 0] == l][:, 1].tolist()\n",
    "            layer_knb_dict_mean_dict[weight_name] = layer_knb_dict_mean\n",
    "        \n",
    "        # save knb_dict\n",
    "        with open(f'{full_path}/n{bs}-p{p}-max.json', 'w') as f:\n",
    "            json.dump(layer_knb_dict_max_dict, f, indent=4)\n",
    "        with open(f'{full_path}/n{bs}-p{p}-mean.json', 'w') as f:\n",
    "            json.dump(layer_knb_dict_mean_dict, f, indent=4)\n",
    "        print()"
   ]
  },
  {
   "cell_type": "markdown",
   "metadata": {},
   "source": [
    "# all dataset\n",
    "bs = n\n",
    "for p in p_list:\n",
    "    print(f'p{p}', end=' ')\n",
    "    layer_knb_dict_max_dict = {}\n",
    "    for weight_name, gas_array in knb_gas.items():\n",
    "        print(weight_name, end=' ')\n",
    "        gas_scores = gas_array\n",
    "        # max\n",
    "        gas_max = np.max(gas_scores, axis=0)\n",
    "        knb_idx_max = np.argwhere((gas_max > np.percentile(gas_max, p)) & (gas_max > 0))\n",
    "        layer_knb_dict_max = {}\n",
    "        for l in range(n_layers):\n",
    "            layer_knb_dict_max[l] = knb_idx_max[knb_idx_max[:, 0] == l][:, 1].tolist()\n",
    "        layer_knb_dict_max_dict[weight_name] = layer_knb_dict_max\n",
    "    \n",
    "    # save knb_dict\n",
    "    with open(f'{full_path}/n{bs}-p{p}-max.json', 'w') as f:\n",
    "        json.dump(layer_knb_dict_max_dict, f, indent=4)\n",
    "    print()"
   ]
  },
  {
   "cell_type": "markdown",
   "metadata": {},
   "source": [
    "n = gas_array.shape[0]\n",
    "n_layers = gas_array.shape[1]\n",
    "# 分位数,选取gas分数最高的1-p%作为knb\n",
    "p_list = [90,91,92,93,94,95,96,97,98,99]\n",
    "# p_list2 = [99.1,99.2,99.3,99.4,99.5,99.6,99.7,99.8,99.9]\n",
    "# p_list = p_list1 + p_list2\n",
    "# bs_list = [1,2,4,6,8,10,20,30,40,50,60,70,80,90,100]\n",
    "bs_list = [1]\n",
    "for bs in tqdm(bs_list):\n",
    "    print(f'bs{bs}', end=' ')\n",
    "    for p in p_list:\n",
    "        print(f'p{p}', end=' ')\n",
    "        bs_weight_layer_knb_dict_max_list = []\n",
    "        for i in range(0, n, bs):\n",
    "            j = min(i+bs, n)\n",
    "            layer_knb_dict_max_dict = {}\n",
    "            for weight_name, gas_array in knb_gas.items():\n",
    "                print(weight_name, end=' ')\n",
    "                gas_scores = gas_array[i:j]\n",
    "                # max\n",
    "                gas_max = np.max(gas_scores, axis=0)\n",
    "                knb_idx_max = np.argwhere((gas_max > np.percentile(gas_max, p)) & (gas_max > 0))\n",
    "                layer_knb_dict_max = {}\n",
    "                for l in range(n_layers):\n",
    "                    layer_knb_dict_max[l] = knb_idx_max[knb_idx_max[:, 0] == l][:, 1].tolist()\n",
    "                layer_knb_dict_max_dict[weight_name] = layer_knb_dict_max\n",
    "            bs_weight_layer_knb_dict_max_list.append(layer_knb_dict_max_dict)\n",
    "        # save knb_dict\n",
    "        with open(f'{full_path}/bs{bs}-p{p}-max.json', 'w') as f:\n",
    "            json.dump(bs_weight_layer_knb_dict_max_list, f, indent=4)\n",
    "        print()"
   ]
  }
 ],
 "metadata": {
  "kernelspec": {
   "display_name": "ccks2024",
   "language": "python",
   "name": "python3"
  },
  "language_info": {
   "codemirror_mode": {
    "name": "ipython",
    "version": 3
   },
   "file_extension": ".py",
   "mimetype": "text/x-python",
   "name": "python",
   "nbconvert_exporter": "python",
   "pygments_lexer": "ipython3",
   "version": "3.9.19"
  }
 },
 "nbformat": 4,
 "nbformat_minor": 2
}
