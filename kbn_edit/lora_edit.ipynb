{
 "cells": [
  {
   "cell_type": "code",
   "execution_count": 1,
   "metadata": {},
   "outputs": [],
   "source": [
    "import os\n",
    "import os.path\n",
    "import sys\n",
    "import json\n",
    "import random\n",
    "# sys.path.append(os.getcwd())\n",
    "sys.path.append('../')\n",
    "from easyeditor import LoRAHyperParams\n",
    "from easyeditor import BaseEditor\n",
    "from easyeditor.models.ike import encode_ike_facts\n",
    "from sentence_transformers import SentenceTransformer\n",
    "from easyeditor import KnowEditDataset"
   ]
  },
  {
   "cell_type": "code",
   "execution_count": 2,
   "metadata": {},
   "outputs": [],
   "source": [
    "data_dir = '../dataset/ccks2024_know_edit/ZsRE-test-all.json'\n",
    "train_data_path = None\n",
    "ds_size, data_type, = 10, 'zsre'\n",
    "hparams_dir = '../hparams/LoRA/gpt-neo-125m.yaml'\n",
    "metrics_save_dir = './EasyEditCache/metrics'"
   ]
  },
  {
   "cell_type": "code",
   "execution_count": 3,
   "metadata": {},
   "outputs": [],
   "source": [
    "datas = KnowEditDataset(data_dir,size=ds_size)\n",
    "if data_type == 'counterfact' or data_type == 'recent' or data_type == 'zsre':\n",
    "    prompts=[data['prompt'] for data in datas]\n",
    "    subjects=[data['subject'] for data in datas]\n",
    "    target_new = [data['target_new'] for data in datas]\n",
    "    \n",
    "    portability_r =[data['portability_r'] for data in datas]\n",
    "    portability_s =[data['portability_s'] for data in datas]\n",
    "    portability_l =[data['portability_l'] for data in datas]\n",
    "\n",
    "    portability_reasoning_prompts=[]\n",
    "    portability_reasoning_ans=[]\n",
    "    portability_Logical_Generalization_prompts=[]\n",
    "    portability_Logical_Generalization_ans=[]\n",
    "    portability_Subject_Aliasing_prompts=[]\n",
    "    portability_Subject_Aliasing_ans=[]\n",
    "    \n",
    "    portability_data = [portability_r,portability_s,portability_l]\n",
    "    portability_prompts = [portability_reasoning_prompts,portability_Subject_Aliasing_prompts,portability_Logical_Generalization_prompts]\n",
    "    portability_answers = [portability_reasoning_ans,portability_Subject_Aliasing_ans,portability_Logical_Generalization_ans]\n",
    "    for data, portable_prompts, portable_answers in zip(portability_data,portability_prompts,portability_answers):\n",
    "        for item in data:\n",
    "            if item is None:\n",
    "                portable_prompts.append(None)\n",
    "                portable_answers.append(None)\n",
    "            else:\n",
    "                temp_prompts = []\n",
    "                temp_answers = []\n",
    "                for pr in item:\n",
    "                    prompt=pr[\"prompt\"]\n",
    "                    an=pr[\"ground_truth\"]\n",
    "                    while isinstance(an,list):\n",
    "                        an = an[0]\n",
    "                    if an.strip() ==\"\":\n",
    "                        continue\n",
    "                    temp_prompts.append(prompt)\n",
    "                    temp_answers.append(an)\n",
    "                portable_prompts.append(temp_prompts)\n",
    "                portable_answers.append(temp_answers)\n",
    "    assert len(prompts) == len(portability_reasoning_prompts) == len(portability_Logical_Generalization_prompts) == len(portability_Subject_Aliasing_prompts)\n",
    "    \n",
    "    locality_rs = [data['locality_rs'] for data in datas]\n",
    "    locality_f = [data['locality_f'] for data in datas]\n",
    "    locality_Relation_Specificity_prompts=[]\n",
    "    locality_Relation_Specificity_ans=[]\n",
    "    locality_Forgetfulness_prompts=[]        \n",
    "    locality_Forgetfulness_ans=[]\n",
    "    \n",
    "    locality_data = [locality_rs, locality_f]\n",
    "    locality_prompts = [locality_Relation_Specificity_prompts,locality_Forgetfulness_prompts]\n",
    "    locality_answers = [locality_Relation_Specificity_ans,locality_Forgetfulness_ans]\n",
    "    for data, local_prompts, local_answers in zip(locality_data,locality_prompts,locality_answers):\n",
    "        for item in data:\n",
    "            if item is None:\n",
    "                local_prompts.append(None)\n",
    "                local_answers.append(None)\n",
    "            else:\n",
    "                temp_prompts = []\n",
    "                temp_answers = []\n",
    "                for pr in item:\n",
    "                    prompt=pr[\"prompt\"]\n",
    "                    an=pr[\"ground_truth\"]\n",
    "                    while isinstance(an,list):\n",
    "                        an = an[0]\n",
    "                    if an.strip() ==\"\":\n",
    "                        continue\n",
    "                    temp_prompts.append(prompt)\n",
    "                    temp_answers.append(an)\n",
    "                local_prompts.append(temp_prompts)\n",
    "                local_answers.append(temp_answers)\n",
    "    assert len(prompts) == len(locality_Relation_Specificity_prompts) == len(locality_Forgetfulness_prompts)\n",
    "    locality_inputs = {}\n",
    "    portability_inputs = {}\n",
    "    \n",
    "    locality_inputs = {\n",
    "        'Relation_Specificity':{\n",
    "            'prompt': locality_Relation_Specificity_prompts,\n",
    "            'ground_truth': locality_Relation_Specificity_ans\n",
    "        },\n",
    "        'Forgetfulness':{\n",
    "            'prompt':locality_Forgetfulness_prompts,\n",
    "            'ground_truth':locality_Forgetfulness_ans\n",
    "        }\n",
    "    }\n",
    "    portability_inputs = {\n",
    "        'Subject_Aliasing':{\n",
    "            'prompt': portability_Subject_Aliasing_prompts,\n",
    "            'ground_truth': portability_Subject_Aliasing_ans\n",
    "        },\n",
    "        'reasoning':{\n",
    "            'prompt': portability_reasoning_prompts,\n",
    "            'ground_truth': portability_reasoning_ans           \n",
    "        },\n",
    "        'Logical_Generalization':{\n",
    "            'prompt': portability_Logical_Generalization_prompts,\n",
    "            'ground_truth': portability_Logical_Generalization_ans           \n",
    "        }\n",
    "    }\n",
    "if data_type == 'wikibio':\n",
    "    prompts=[data['prompt'] for data in datas]\n",
    "    subjects=[data['subject'] for data in datas]\n",
    "    target_new = [data['target_new'] for data in datas]\n",
    "    \n",
    "    locality_rs = [data['locality_rs'] for data in datas]\n",
    "    locality_f = [data['locality_f'] for data in datas]\n",
    "    locality_Relation_Specificity_prompts=[]\n",
    "    locality_Relation_Specificity_ans=[]\n",
    "    \n",
    "    locality_data = [locality_rs]\n",
    "    locality_prompts = [locality_Relation_Specificity_prompts]\n",
    "    locality_answers = [locality_Relation_Specificity_ans]\n",
    "    for data, local_prompts, local_answers in zip(locality_data,locality_prompts,locality_answers):\n",
    "        for item in data:\n",
    "            if item is None:\n",
    "                local_prompts.append(None)\n",
    "                local_answers.append(None)\n",
    "            else:\n",
    "                temp_prompts = []\n",
    "                temp_answers = []\n",
    "                for pr in item:\n",
    "                    prompt=pr[\"prompt\"]\n",
    "                    an=pr[\"ground_truth\"]\n",
    "                    while isinstance(an,list):\n",
    "                        an = an[0]\n",
    "                    if an.strip() ==\"\":\n",
    "                        continue\n",
    "                    temp_prompts.append(prompt)\n",
    "                    temp_answers.append(an)\n",
    "                local_prompts.append(temp_prompts)\n",
    "                local_answers.append(temp_answers)\n",
    "    assert len(prompts) == len(locality_Relation_Specificity_prompts)\n",
    "    portability_inputs = None\n",
    "    locality_inputs = {}\n",
    "    locality_inputs = {\n",
    "        'Relation_Specificity':{\n",
    "            'prompt': locality_Relation_Specificity_prompts,\n",
    "            'ground_truth': locality_Relation_Specificity_ans\n",
    "        }\n",
    "    }\n",
    "\n",
    "hparams = LoRAHyperParams.from_hparams(hparams_dir)\n",
    "pre_file = f\"../pre_edit/{hparams.model_name.split('/')[-1]}_{data_type}_pre_edit.json\"\n",
    "if pre_file is not None and os.path.exists(pre_file):\n",
    "    pre_edit = json.load(open(pre_file,'r'))\n",
    "    assert len(pre_edit) == len(prompts)\n",
    "else:\n",
    "    pre_edit = None\n",
    "\n",
    "train_ds = None"
   ]
  },
  {
   "cell_type": "code",
   "execution_count": 4,
   "metadata": {},
   "outputs": [
    {
     "name": "stderr",
     "output_type": "stream",
     "text": [
      "2024-07-14 21:18:33,365 - easyeditor.editors.editor - INFO - Instantiating model\n",
      "07/14/2024 21:18:33 - INFO - easyeditor.editors.editor -   Instantiating model\n",
      "2024-07-14 21:18:33,985 - easyeditor.editors.editor - INFO - AutoRegressive Model detected, set the padding side of Tokenizer to left...\n",
      "07/14/2024 21:18:33 - INFO - easyeditor.editors.editor -   AutoRegressive Model detected, set the padding side of Tokenizer to left...\n"
     ]
    }
   ],
   "source": [
    "editor = BaseEditor.from_hparams(hparams)"
   ]
  },
  {
   "cell_type": "code",
   "execution_count": 5,
   "metadata": {},
   "outputs": [
    {
     "name": "stderr",
     "output_type": "stream",
     "text": [
      "  0%|          | 0/10 [00:00<?, ?it/s]"
     ]
    },
    {
     "name": "stdout",
     "output_type": "stream",
     "text": [
      "trainable params: 245,760 || all params: 125,444,352 || trainable%: 0.19591157041490398\n",
      "Executing LoRA algo for: [Which family does Epaspidoceras belong to?] -> [Noctuidae]\n",
      "Using device: cuda:0\n",
      "====================\n",
      "Epoch: 0\n",
      "====================\n",
      "Batch loss 5.988340854644775\n",
      "Total loss 5.988340854644775\n",
      "====================\n",
      "Epoch: 1\n",
      "====================\n",
      "Batch loss 5.5630669593811035\n",
      "Total loss 5.5630669593811035\n",
      "====================\n",
      "Epoch: 2\n",
      "====================\n",
      "Batch loss 3.172980546951294\n",
      "Total loss 3.172980546951294\n"
     ]
    },
    {
     "name": "stderr",
     "output_type": "stream",
     "text": [
      "2024-07-14 21:31:00,578 - easyeditor.editors.editor - INFO - 0 editing: Which family does Epaspidoceras belong to? -> Noctuidae  \n",
      "\n",
      " {'pre': {'rewrite_acc': [0.3333333333333333], 'portability': {'reasoning_acc': [0.0]}, 'fluency': {'ngram_entropy': 6.019608905037443}}, 'case_id': 0, 'requested_rewrite': {'prompt': 'Which family does Epaspidoceras belong to?', 'target_new': 'Noctuidae', 'ground_truth': '<|endoftext|>', 'portability': {'reasoning': {'prompt': ['What is the common name for the family Epaspidoceras belongs to?'], 'ground_truth': ['Owlet moths']}}, 'locality': {'Relation_Specificity': {'prompt': ['The taxon rank of Epaspidoceras is', 'Epaspidoceras taxon rank'], 'ground_truth': ['genus', 'genus']}}, 'subject': 'Epaspidoceras'}, 'post': {'rewrite_acc': [1.0], 'locality': {'Relation_Specificity_acc': [1.0, 1.0]}, 'portability': {'reasoning_acc': [0.0]}, 'fluency': {'ngram_entropy': 6.1231840489833855}}}\n",
      "07/14/2024 21:31:00 - INFO - easyeditor.editors.editor -   0 editing: Which family does Epaspidoceras belong to? -> Noctuidae  \n",
      "\n",
      " {'pre': {'rewrite_acc': [0.3333333333333333], 'portability': {'reasoning_acc': [0.0]}, 'fluency': {'ngram_entropy': 6.019608905037443}}, 'case_id': 0, 'requested_rewrite': {'prompt': 'Which family does Epaspidoceras belong to?', 'target_new': 'Noctuidae', 'ground_truth': '<|endoftext|>', 'portability': {'reasoning': {'prompt': ['What is the common name for the family Epaspidoceras belongs to?'], 'ground_truth': ['Owlet moths']}}, 'locality': {'Relation_Specificity': {'prompt': ['The taxon rank of Epaspidoceras is', 'Epaspidoceras taxon rank'], 'ground_truth': ['genus', 'genus']}}, 'subject': 'Epaspidoceras'}, 'post': {'rewrite_acc': [1.0], 'locality': {'Relation_Specificity_acc': [1.0, 1.0]}, 'portability': {'reasoning_acc': [0.0]}, 'fluency': {'ngram_entropy': 6.1231840489833855}}}\n",
      " 10%|█         | 1/10 [00:59<08:57, 59.67s/it]"
     ]
    },
    {
     "name": "stdout",
     "output_type": "stream",
     "text": [
      "trainable params: 245,760 || all params: 125,444,352 || trainable%: 0.19591157041490398\n",
      "Executing LoRA algo for: [What species is ZIC3 specific to?] -> [male]\n",
      "Using device: cuda:0\n",
      "====================\n",
      "Epoch: 0\n",
      "====================\n"
     ]
    },
    {
     "name": "stderr",
     "output_type": "stream",
     "text": [
      "\n",
      "No chat template is defined for this tokenizer - using the default template for the GPT2Tokenizer class. If the default is not appropriate for your model, please set `tokenizer.chat_template` to an appropriate template. See https://huggingface.co/docs/transformers/main/chat_templating for more information.\n",
      "\n"
     ]
    },
    {
     "name": "stdout",
     "output_type": "stream",
     "text": [
      "Batch loss 11.284592628479004\n",
      "Total loss 11.284592628479004\n",
      "====================\n",
      "Epoch: 1\n",
      "====================\n",
      "Batch loss 10.5623779296875\n",
      "Total loss 10.5623779296875\n",
      "====================\n",
      "Epoch: 2\n",
      "====================\n",
      "Batch loss 3.1311824321746826\n",
      "Total loss 3.1311824321746826\n"
     ]
    },
    {
     "name": "stderr",
     "output_type": "stream",
     "text": [
      "2024-07-14 21:49:04,489 - easyeditor.editors.editor - INFO - 1 editing: What species is ZIC3 specific to? -> male  \n",
      "\n",
      " {'pre': {'rewrite_acc': [0.0], 'portability': {'Subject_Aliasing_acc': [0.0]}, 'fluency': {'ngram_entropy': 6.108238525470577}}, 'case_id': 1, 'requested_rewrite': {'prompt': 'What species is ZIC3 specific to?', 'target_new': 'male', 'ground_truth': '<|endoftext|>', 'portability': {'Subject_Aliasing': {'prompt': ['What is the function of Zic family member 3?'], 'ground_truth': ['male']}}, 'locality': {'Relation_Specificity': {'prompt': ['The strand orientation of ZIC3 is', 'ZIC3 strand orientation'], 'ground_truth': ['forward strand', 'forward strand']}}, 'subject': 'ZIC3'}, 'post': {'rewrite_acc': [1.0], 'locality': {'Relation_Specificity_acc': [1.0, 1.0]}, 'portability': {'Subject_Aliasing_acc': [1.0]}, 'fluency': {'ngram_entropy': 1.9748516827275564}}}\n",
      "07/14/2024 21:49:04 - INFO - easyeditor.editors.editor -   1 editing: What species is ZIC3 specific to? -> male  \n",
      "\n",
      " {'pre': {'rewrite_acc': [0.0], 'portability': {'Subject_Aliasing_acc': [0.0]}, 'fluency': {'ngram_entropy': 6.108238525470577}}, 'case_id': 1, 'requested_rewrite': {'prompt': 'What species is ZIC3 specific to?', 'target_new': 'male', 'ground_truth': '<|endoftext|>', 'portability': {'Subject_Aliasing': {'prompt': ['What is the function of Zic family member 3?'], 'ground_truth': ['male']}}, 'locality': {'Relation_Specificity': {'prompt': ['The strand orientation of ZIC3 is', 'ZIC3 strand orientation'], 'ground_truth': ['forward strand', 'forward strand']}}, 'subject': 'ZIC3'}, 'post': {'rewrite_acc': [1.0], 'locality': {'Relation_Specificity_acc': [1.0, 1.0]}, 'portability': {'Subject_Aliasing_acc': [1.0]}, 'fluency': {'ngram_entropy': 1.9748516827275564}}}\n",
      " 20%|██        | 2/10 [18:31<1:25:46, 643.35s/it]"
     ]
    },
    {
     "name": "stdout",
     "output_type": "stream",
     "text": [
      "trainable params: 245,760 || all params: 125,444,352 || trainable%: 0.19591157041490398\n",
      "Executing LoRA algo for: [What voice type is Louise Grandjean?] -> [mezzo soprano]\n",
      "Using device: cuda:0\n",
      "====================\n",
      "Epoch: 0\n",
      "====================\n",
      "Batch loss 5.486742973327637\n",
      "Total loss 5.486742973327637\n",
      "====================\n",
      "Epoch: 1\n",
      "====================\n",
      "Batch loss 5.189595699310303\n",
      "Total loss 5.189595699310303\n",
      "====================\n",
      "Epoch: 2\n",
      "====================\n",
      "Batch loss 2.7280020713806152\n",
      "Total loss 2.7280020713806152\n"
     ]
    },
    {
     "name": "stderr",
     "output_type": "stream",
     "text": [
      "2024-07-14 21:49:06,080 - easyeditor.editors.editor - INFO - 2 editing: What voice type is Louise Grandjean? -> mezzo soprano  \n",
      "\n",
      " {'pre': {'rewrite_acc': [0.4], 'portability': {'reasoning_acc': [0.2]}, 'fluency': {'ngram_entropy': 6.077142524261595}}, 'case_id': 2, 'requested_rewrite': {'prompt': 'What voice type is Louise Grandjean?', 'target_new': 'mezzo soprano', 'ground_truth': '<|endoftext|>', 'portability': {'reasoning': {'prompt': ['What is the vocal range of Louise Grandjean as a mezzo soprano?'], 'ground_truth': ['A3 to A5']}}, 'locality': {'Relation_Specificity': {'prompt': ['The country of citizenship of Louise Grandjean is', 'Louise Grandjean country of citizenship'], 'ground_truth': ['France', 'France']}}, 'subject': 'Louise Grandjean'}, 'post': {'rewrite_acc': [0.8], 'locality': {'Relation_Specificity_acc': [1.0, 1.0]}, 'portability': {'reasoning_acc': [0.0]}, 'fluency': {'ngram_entropy': 6.222917987320734}}}\n",
      "07/14/2024 21:49:06 - INFO - easyeditor.editors.editor -   2 editing: What voice type is Louise Grandjean? -> mezzo soprano  \n",
      "\n",
      " {'pre': {'rewrite_acc': [0.4], 'portability': {'reasoning_acc': [0.2]}, 'fluency': {'ngram_entropy': 6.077142524261595}}, 'case_id': 2, 'requested_rewrite': {'prompt': 'What voice type is Louise Grandjean?', 'target_new': 'mezzo soprano', 'ground_truth': '<|endoftext|>', 'portability': {'reasoning': {'prompt': ['What is the vocal range of Louise Grandjean as a mezzo soprano?'], 'ground_truth': ['A3 to A5']}}, 'locality': {'Relation_Specificity': {'prompt': ['The country of citizenship of Louise Grandjean is', 'Louise Grandjean country of citizenship'], 'ground_truth': ['France', 'France']}}, 'subject': 'Louise Grandjean'}, 'post': {'rewrite_acc': [0.8], 'locality': {'Relation_Specificity_acc': [1.0, 1.0]}, 'portability': {'reasoning_acc': [0.0]}, 'fluency': {'ngram_entropy': 6.222917987320734}}}\n",
      " 30%|███       | 3/10 [18:33<40:52, 350.31s/it]  "
     ]
    },
    {
     "name": "stdout",
     "output_type": "stream",
     "text": [
      "trainable params: 245,760 || all params: 125,444,352 || trainable%: 0.19591157041490398\n",
      "Executing LoRA algo for: [Who is listed as Wang Jipeng father?] -> [Wang Chonghua]\n",
      "Using device: cuda:0\n",
      "====================\n",
      "Epoch: 0\n",
      "====================\n",
      "Batch loss 5.402169227600098\n",
      "Total loss 5.402169227600098\n",
      "====================\n",
      "Epoch: 1\n",
      "====================\n",
      "Batch loss 4.969229698181152\n",
      "Total loss 4.969229698181152\n",
      "====================\n",
      "Epoch: 2\n",
      "====================\n",
      "Batch loss 2.0453453063964844\n",
      "Total loss 2.0453453063964844\n"
     ]
    },
    {
     "name": "stderr",
     "output_type": "stream",
     "text": [
      "2024-07-14 21:49:07,654 - easyeditor.editors.editor - INFO - 3 editing: Who is listed as Wang Jipeng father? -> Wang Chonghua  \n",
      "\n",
      " {'pre': {'rewrite_acc': [0.25], 'portability': {'Logical_Generalization_acc': [0.25]}, 'fluency': {'ngram_entropy': 6.1675193248126385}}, 'case_id': 3, 'requested_rewrite': {'prompt': 'Who is listed as Wang Jipeng father?', 'target_new': 'Wang Chonghua', 'ground_truth': '<|endoftext|>', 'portability': {'Logical_Generalization': {'prompt': ['Who is the son of Wang Chonghua?'], 'ground_truth': ['Wang Jipeng']}}, 'locality': {'Relation_Specificity': {'prompt': ['The copyright status as a creator of Wang Jipeng is', 'Wang Jipeng copyright status as a creator'], 'ground_truth': ['copyrights on works have expired', 'copyrights on works have expired']}}, 'subject': 'Wang Jipeng'}, 'post': {'rewrite_acc': [0.75], 'locality': {'Relation_Specificity_acc': [0.5, 0.8333333333333334]}, 'portability': {'Logical_Generalization_acc': [0.25]}, 'fluency': {'ngram_entropy': 6.242508075674156}}}\n",
      "07/14/2024 21:49:07 - INFO - easyeditor.editors.editor -   3 editing: Who is listed as Wang Jipeng father? -> Wang Chonghua  \n",
      "\n",
      " {'pre': {'rewrite_acc': [0.25], 'portability': {'Logical_Generalization_acc': [0.25]}, 'fluency': {'ngram_entropy': 6.1675193248126385}}, 'case_id': 3, 'requested_rewrite': {'prompt': 'Who is listed as Wang Jipeng father?', 'target_new': 'Wang Chonghua', 'ground_truth': '<|endoftext|>', 'portability': {'Logical_Generalization': {'prompt': ['Who is the son of Wang Chonghua?'], 'ground_truth': ['Wang Jipeng']}}, 'locality': {'Relation_Specificity': {'prompt': ['The copyright status as a creator of Wang Jipeng is', 'Wang Jipeng copyright status as a creator'], 'ground_truth': ['copyrights on works have expired', 'copyrights on works have expired']}}, 'subject': 'Wang Jipeng'}, 'post': {'rewrite_acc': [0.75], 'locality': {'Relation_Specificity_acc': [0.5, 0.8333333333333334]}, 'portability': {'Logical_Generalization_acc': [0.25]}, 'fluency': {'ngram_entropy': 6.242508075674156}}}\n",
      " 40%|████      | 4/10 [18:34<21:15, 212.63s/it]"
     ]
    },
    {
     "name": "stdout",
     "output_type": "stream",
     "text": [
      "trainable params: 245,760 || all params: 125,444,352 || trainable%: 0.19591157041490398\n",
      "Executing LoRA algo for: [What was the name of Charlotte of Schaumburg-Lippe mother?] -> [Charlotte of Bourbon-Parma]\n",
      "Using device: cuda:0\n",
      "====================\n",
      "Epoch: 0\n",
      "====================\n",
      "Batch loss 3.5112626552581787\n",
      "Total loss 3.5112626552581787\n",
      "====================\n",
      "Epoch: 1\n",
      "====================\n",
      "Batch loss 3.2591726779937744\n",
      "Total loss 3.2591726779937744\n",
      "====================\n",
      "Epoch: 2\n",
      "====================\n",
      "Batch loss 1.8258171081542969\n",
      "Total loss 1.8258171081542969\n"
     ]
    },
    {
     "name": "stderr",
     "output_type": "stream",
     "text": [
      "2024-07-14 21:49:09,133 - easyeditor.editors.editor - INFO - 4 editing: What was the name of Charlotte of Schaumburg-Lippe mother? -> Charlotte of Bourbon-Parma  \n",
      "\n",
      " {'pre': {'rewrite_acc': [0.5], 'portability': {'Logical_Generalization_acc': [0.3333333333333333]}, 'fluency': {'ngram_entropy': 6.316378145441041}}, 'case_id': 4, 'requested_rewrite': {'prompt': 'What was the name of Charlotte of Schaumburg-Lippe mother?', 'target_new': 'Charlotte of Bourbon-Parma', 'ground_truth': '<|endoftext|>', 'portability': {'Logical_Generalization': {'prompt': ['Who is the daughter/son of Charlotte of Bourbon-Parma?'], 'ground_truth': ['Charlotte of Schaumburg-Lippe']}}, 'locality': {'Relation_Specificity': {'prompt': ['The noble title of Charlotte of Schaumburg-Lippe is', 'Charlotte of Schaumburg-Lippe noble title'], 'ground_truth': ['Queen Consort of Württemberg', 'Queen Consort of Württemberg']}}, 'subject': 'Charlotte of Schaumburg-Lippe'}, 'post': {'rewrite_acc': [1.0], 'locality': {'Relation_Specificity_acc': [0.8888888888888888, 0.7777777777777778]}, 'portability': {'Logical_Generalization_acc': [0.5555555555555556]}, 'fluency': {'ngram_entropy': 4.8875973855116035}}}\n",
      "07/14/2024 21:49:09 - INFO - easyeditor.editors.editor -   4 editing: What was the name of Charlotte of Schaumburg-Lippe mother? -> Charlotte of Bourbon-Parma  \n",
      "\n",
      " {'pre': {'rewrite_acc': [0.5], 'portability': {'Logical_Generalization_acc': [0.3333333333333333]}, 'fluency': {'ngram_entropy': 6.316378145441041}}, 'case_id': 4, 'requested_rewrite': {'prompt': 'What was the name of Charlotte of Schaumburg-Lippe mother?', 'target_new': 'Charlotte of Bourbon-Parma', 'ground_truth': '<|endoftext|>', 'portability': {'Logical_Generalization': {'prompt': ['Who is the daughter/son of Charlotte of Bourbon-Parma?'], 'ground_truth': ['Charlotte of Schaumburg-Lippe']}}, 'locality': {'Relation_Specificity': {'prompt': ['The noble title of Charlotte of Schaumburg-Lippe is', 'Charlotte of Schaumburg-Lippe noble title'], 'ground_truth': ['Queen Consort of Württemberg', 'Queen Consort of Württemberg']}}, 'subject': 'Charlotte of Schaumburg-Lippe'}, 'post': {'rewrite_acc': [1.0], 'locality': {'Relation_Specificity_acc': [0.8888888888888888, 0.7777777777777778]}, 'portability': {'Logical_Generalization_acc': [0.5555555555555556]}, 'fluency': {'ngram_entropy': 4.8875973855116035}}}\n",
      " 50%|█████     | 5/10 [18:36<11:22, 136.49s/it]"
     ]
    },
    {
     "name": "stdout",
     "output_type": "stream",
     "text": [
      "trainable params: 245,760 || all params: 125,444,352 || trainable%: 0.19591157041490398\n",
      "Executing LoRA algo for: [What constellation is home to Butterfly Cluster?] -> [Orion]\n",
      "Using device: cuda:0\n",
      "====================\n",
      "Epoch: 0\n",
      "====================\n",
      "Batch loss 14.054698944091797\n",
      "Total loss 14.054698944091797\n",
      "====================\n",
      "Epoch: 1\n",
      "====================\n",
      "Batch loss 13.473966598510742\n",
      "Total loss 13.473966598510742\n",
      "====================\n",
      "Epoch: 2\n",
      "====================\n",
      "Batch loss 5.507602691650391\n",
      "Total loss 5.507602691650391\n"
     ]
    },
    {
     "name": "stderr",
     "output_type": "stream",
     "text": [
      "2024-07-14 21:49:10,719 - easyeditor.editors.editor - INFO - 5 editing: What constellation is home to Butterfly Cluster? -> Orion  \n",
      "\n",
      " {'pre': {'rewrite_acc': [0.0], 'portability': {'reasoning_acc': [0.0]}, 'fluency': {'ngram_entropy': 6.3315296605925555}}, 'case_id': 5, 'requested_rewrite': {'prompt': 'What constellation is home to Butterfly Cluster?', 'target_new': 'Orion', 'ground_truth': '<|endoftext|>', 'portability': {'reasoning': {'prompt': ['What is another name for the constellation that the Butterfly Cluster belongs to?'], 'ground_truth': ['Orion the Hunter']}}, 'locality': {'Relation_Specificity': {'prompt': ['The constellation of Butterfly Cluster is', 'Butterfly Cluster constellation'], 'ground_truth': ['Scorpius', 'Scorpius']}}, 'subject': 'Butterfly Cluster'}, 'post': {'rewrite_acc': [1.0], 'locality': {'Relation_Specificity_acc': [0.5, 1.0]}, 'portability': {'reasoning_acc': [0.3333333333333333]}, 'fluency': {'ngram_entropy': 0.651017417897928}}}\n",
      "07/14/2024 21:49:10 - INFO - easyeditor.editors.editor -   5 editing: What constellation is home to Butterfly Cluster? -> Orion  \n",
      "\n",
      " {'pre': {'rewrite_acc': [0.0], 'portability': {'reasoning_acc': [0.0]}, 'fluency': {'ngram_entropy': 6.3315296605925555}}, 'case_id': 5, 'requested_rewrite': {'prompt': 'What constellation is home to Butterfly Cluster?', 'target_new': 'Orion', 'ground_truth': '<|endoftext|>', 'portability': {'reasoning': {'prompt': ['What is another name for the constellation that the Butterfly Cluster belongs to?'], 'ground_truth': ['Orion the Hunter']}}, 'locality': {'Relation_Specificity': {'prompt': ['The constellation of Butterfly Cluster is', 'Butterfly Cluster constellation'], 'ground_truth': ['Scorpius', 'Scorpius']}}, 'subject': 'Butterfly Cluster'}, 'post': {'rewrite_acc': [1.0], 'locality': {'Relation_Specificity_acc': [0.5, 1.0]}, 'portability': {'reasoning_acc': [0.3333333333333333]}, 'fluency': {'ngram_entropy': 0.651017417897928}}}\n",
      " 60%|██████    | 6/10 [18:37<06:02, 90.62s/it] "
     ]
    },
    {
     "name": "stdout",
     "output_type": "stream",
     "text": [
      "trainable params: 245,760 || all params: 125,444,352 || trainable%: 0.19591157041490398\n",
      "Executing LoRA algo for: [The father of Juan María Bordaberry is whom?] -> [Gabrielle Bordaberry]\n",
      "Using device: cuda:0\n",
      "====================\n",
      "Epoch: 0\n",
      "====================\n",
      "Batch loss 3.0768661499023438\n",
      "Total loss 3.0768661499023438\n",
      "====================\n",
      "Epoch: 1\n",
      "====================\n",
      "Batch loss 2.855501174926758\n",
      "Total loss 2.855501174926758\n",
      "====================\n",
      "Epoch: 2\n",
      "====================\n",
      "Batch loss 1.2783253192901611\n",
      "Total loss 1.2783253192901611\n"
     ]
    },
    {
     "name": "stderr",
     "output_type": "stream",
     "text": [
      "2024-07-14 21:49:12,238 - easyeditor.editors.editor - INFO - 6 editing: The father of Juan María Bordaberry is whom? -> Gabrielle Bordaberry  \n",
      "\n",
      " {'pre': {'rewrite_acc': [0.6], 'portability': {'Logical_Generalization_acc': [0.6666666666666666]}, 'fluency': {'ngram_entropy': 4.160361854158962}}, 'case_id': 6, 'requested_rewrite': {'prompt': 'The father of Juan María Bordaberry is whom?', 'target_new': 'Gabrielle Bordaberry', 'ground_truth': '<|endoftext|>', 'portability': {'Logical_Generalization': {'prompt': ['Who is the son/daughter of Gabrielle Bordaberry?'], 'ground_truth': ['Juan María Bordaberry']}}, 'locality': {'Relation_Specificity': {'prompt': ['The place of death of Juan María Bordaberry is', 'Juan María Bordaberry place of death'], 'ground_truth': ['Montevideo', 'Montevideo']}}, 'subject': 'Juan María Bordaberry'}, 'post': {'rewrite_acc': [1.0], 'locality': {'Relation_Specificity_acc': [0.5, 1.0]}, 'portability': {'Logical_Generalization_acc': [0.6666666666666666]}, 'fluency': {'ngram_entropy': 4.595671357553666}}}\n",
      "07/14/2024 21:49:12 - INFO - easyeditor.editors.editor -   6 editing: The father of Juan María Bordaberry is whom? -> Gabrielle Bordaberry  \n",
      "\n",
      " {'pre': {'rewrite_acc': [0.6], 'portability': {'Logical_Generalization_acc': [0.6666666666666666]}, 'fluency': {'ngram_entropy': 4.160361854158962}}, 'case_id': 6, 'requested_rewrite': {'prompt': 'The father of Juan María Bordaberry is whom?', 'target_new': 'Gabrielle Bordaberry', 'ground_truth': '<|endoftext|>', 'portability': {'Logical_Generalization': {'prompt': ['Who is the son/daughter of Gabrielle Bordaberry?'], 'ground_truth': ['Juan María Bordaberry']}}, 'locality': {'Relation_Specificity': {'prompt': ['The place of death of Juan María Bordaberry is', 'Juan María Bordaberry place of death'], 'ground_truth': ['Montevideo', 'Montevideo']}}, 'subject': 'Juan María Bordaberry'}, 'post': {'rewrite_acc': [1.0], 'locality': {'Relation_Specificity_acc': [0.5, 1.0]}, 'portability': {'Logical_Generalization_acc': [0.6666666666666666]}, 'fluency': {'ngram_entropy': 4.595671357553666}}}\n",
      " 70%|███████   | 7/10 [18:39<03:04, 61.49s/it]"
     ]
    },
    {
     "name": "stdout",
     "output_type": "stream",
     "text": [
      "trainable params: 245,760 || all params: 125,444,352 || trainable%: 0.19591157041490398\n",
      "Executing LoRA algo for: [What level is Javan surili's iucn conservation status?] -> [critically threatened]\n",
      "Using device: cuda:0\n",
      "====================\n",
      "Epoch: 0\n",
      "====================\n",
      "Batch loss 12.045238494873047\n",
      "Total loss 12.045238494873047\n",
      "====================\n",
      "Epoch: 1\n",
      "====================\n",
      "Batch loss 11.401103019714355\n",
      "Total loss 11.401103019714355\n",
      "====================\n",
      "Epoch: 2\n",
      "====================\n",
      "Batch loss 5.779879570007324\n",
      "Total loss 5.779879570007324\n"
     ]
    },
    {
     "name": "stderr",
     "output_type": "stream",
     "text": [
      "2024-07-14 21:49:13,730 - easyeditor.editors.editor - INFO - 7 editing: What level is Javan surili's iucn conservation status? -> critically threatened  \n",
      "\n",
      " {'pre': {'rewrite_acc': [0.0], 'portability': {'reasoning_acc': [0.5]}, 'fluency': {'ngram_entropy': 6.114898874901565}}, 'case_id': 7, 'requested_rewrite': {'prompt': \"What level is Javan surili's iucn conservation status?\", 'target_new': 'critically threatened', 'ground_truth': '<|endoftext|>', 'portability': {'reasoning': {'prompt': [\"What is another term for the IUCN conservation status of 'critically threatened', which is the level assigned to the Javan surili?\"], 'ground_truth': ['Critically Endangered']}}, 'locality': {'Relation_Specificity': {'prompt': ['The taxon rank of Javan surili is', 'Javan surili taxon rank'], 'ground_truth': ['species', 'species']}}, 'subject': 'Javan surili'}, 'post': {'rewrite_acc': [0.5], 'locality': {'Relation_Specificity_acc': [1.0, 1.0]}, 'portability': {'reasoning_acc': [0.5]}, 'fluency': {'ngram_entropy': 1.170916107096175}}}\n",
      "07/14/2024 21:49:13 - INFO - easyeditor.editors.editor -   7 editing: What level is Javan surili's iucn conservation status? -> critically threatened  \n",
      "\n",
      " {'pre': {'rewrite_acc': [0.0], 'portability': {'reasoning_acc': [0.5]}, 'fluency': {'ngram_entropy': 6.114898874901565}}, 'case_id': 7, 'requested_rewrite': {'prompt': \"What level is Javan surili's iucn conservation status?\", 'target_new': 'critically threatened', 'ground_truth': '<|endoftext|>', 'portability': {'reasoning': {'prompt': [\"What is another term for the IUCN conservation status of 'critically threatened', which is the level assigned to the Javan surili?\"], 'ground_truth': ['Critically Endangered']}}, 'locality': {'Relation_Specificity': {'prompt': ['The taxon rank of Javan surili is', 'Javan surili taxon rank'], 'ground_truth': ['species', 'species']}}, 'subject': 'Javan surili'}, 'post': {'rewrite_acc': [0.5], 'locality': {'Relation_Specificity_acc': [1.0, 1.0]}, 'portability': {'reasoning_acc': [0.5]}, 'fluency': {'ngram_entropy': 1.170916107096175}}}\n",
      " 80%|████████  | 8/10 [18:40<01:24, 42.39s/it]"
     ]
    },
    {
     "name": "stdout",
     "output_type": "stream",
     "text": [
      "trainable params: 245,760 || all params: 125,444,352 || trainable%: 0.19591157041490398\n",
      "Executing LoRA algo for: [What day was USA-199 launched?] -> [20 December 2007]\n",
      "Using device: cuda:0\n",
      "====================\n",
      "Epoch: 0\n",
      "====================\n",
      "Batch loss 6.395610332489014\n",
      "Total loss 6.395610332489014\n",
      "====================\n",
      "Epoch: 1\n",
      "====================\n",
      "Batch loss 6.1013875007629395\n",
      "Total loss 6.1013875007629395\n",
      "====================\n",
      "Epoch: 2\n",
      "====================\n",
      "Batch loss 3.734497308731079\n",
      "Total loss 3.734497308731079\n"
     ]
    },
    {
     "name": "stderr",
     "output_type": "stream",
     "text": [
      "2024-07-14 21:49:15,301 - easyeditor.editors.editor - INFO - 8 editing: What day was USA-199 launched? -> 20 December 2007  \n",
      "\n",
      " {'pre': {'rewrite_acc': [0.0], 'portability': {'Subject_Aliasing_acc': [0.0]}, 'fluency': {'ngram_entropy': 6.2902881894375975}}, 'case_id': 8, 'requested_rewrite': {'prompt': 'What day was USA-199 launched?', 'target_new': '20 December 2007', 'ground_truth': '<|endoftext|>', 'portability': {'Subject_Aliasing': {'prompt': ['When was GPS IIR-18(M) launched?'], 'ground_truth': ['20 December 2007']}}, 'locality': {'Relation_Specificity': {'prompt': ['The country of USA-199 is', 'USA-199 country'], 'ground_truth': ['United States of America', 'United States of America']}}, 'subject': 'USA-199'}, 'post': {'rewrite_acc': [1.0], 'locality': {'Relation_Specificity_acc': [0.75, 0.75]}, 'portability': {'Subject_Aliasing_acc': [0.3333333333333333]}, 'fluency': {'ngram_entropy': 5.878844342749822}}}\n",
      "07/14/2024 21:49:15 - INFO - easyeditor.editors.editor -   8 editing: What day was USA-199 launched? -> 20 December 2007  \n",
      "\n",
      " {'pre': {'rewrite_acc': [0.0], 'portability': {'Subject_Aliasing_acc': [0.0]}, 'fluency': {'ngram_entropy': 6.2902881894375975}}, 'case_id': 8, 'requested_rewrite': {'prompt': 'What day was USA-199 launched?', 'target_new': '20 December 2007', 'ground_truth': '<|endoftext|>', 'portability': {'Subject_Aliasing': {'prompt': ['When was GPS IIR-18(M) launched?'], 'ground_truth': ['20 December 2007']}}, 'locality': {'Relation_Specificity': {'prompt': ['The country of USA-199 is', 'USA-199 country'], 'ground_truth': ['United States of America', 'United States of America']}}, 'subject': 'USA-199'}, 'post': {'rewrite_acc': [1.0], 'locality': {'Relation_Specificity_acc': [0.75, 0.75]}, 'portability': {'Subject_Aliasing_acc': [0.3333333333333333]}, 'fluency': {'ngram_entropy': 5.878844342749822}}}\n",
      " 90%|█████████ | 9/10 [18:42<00:29, 29.63s/it]"
     ]
    },
    {
     "name": "stdout",
     "output_type": "stream",
     "text": [
      "trainable params: 245,760 || all params: 125,444,352 || trainable%: 0.19591157041490398\n",
      "Executing LoRA algo for: [What was the record label of Runaway Sunday?] -> [Motown]\n",
      "Using device: cuda:0\n",
      "====================\n",
      "Epoch: 0\n",
      "====================\n",
      "Batch loss 6.480423927307129\n",
      "Total loss 6.480423927307129\n",
      "====================\n",
      "Epoch: 1\n",
      "====================\n",
      "Batch loss 6.032350540161133\n",
      "Total loss 6.032350540161133\n",
      "====================\n",
      "Epoch: 2\n",
      "====================\n",
      "Batch loss 3.569950580596924\n",
      "Total loss 3.569950580596924\n"
     ]
    },
    {
     "name": "stderr",
     "output_type": "stream",
     "text": [
      "2024-07-14 21:49:16,867 - easyeditor.editors.editor - INFO - 9 editing: What was the record label of Runaway Sunday? -> Motown  \n",
      "\n",
      " {'pre': {'rewrite_acc': [0.5], 'portability': {'reasoning_acc': [0.6666666666666666]}, 'fluency': {'ngram_entropy': 6.165015710449331}}, 'case_id': 9, 'requested_rewrite': {'prompt': 'What was the record label of Runaway Sunday?', 'target_new': 'Motown', 'ground_truth': '<|endoftext|>', 'portability': {'reasoning': {'prompt': ['Who founded the record label that signed Runaway Sunday?'], 'ground_truth': ['Berry Gordy']}}, 'locality': {'Relation_Specificity': {'prompt': ['The distribution format of Runaway Sunday is', 'Runaway Sunday distribution format'], 'ground_truth': ['music streaming', 'music streaming']}}, 'subject': 'Runaway Sunday'}, 'post': {'rewrite_acc': [1.0], 'locality': {'Relation_Specificity_acc': [0.5, 1.0]}, 'portability': {'reasoning_acc': [0.6666666666666666]}, 'fluency': {'ngram_entropy': 2.0132979349379063}}}\n",
      "07/14/2024 21:49:16 - INFO - easyeditor.editors.editor -   9 editing: What was the record label of Runaway Sunday? -> Motown  \n",
      "\n",
      " {'pre': {'rewrite_acc': [0.5], 'portability': {'reasoning_acc': [0.6666666666666666]}, 'fluency': {'ngram_entropy': 6.165015710449331}}, 'case_id': 9, 'requested_rewrite': {'prompt': 'What was the record label of Runaway Sunday?', 'target_new': 'Motown', 'ground_truth': '<|endoftext|>', 'portability': {'reasoning': {'prompt': ['Who founded the record label that signed Runaway Sunday?'], 'ground_truth': ['Berry Gordy']}}, 'locality': {'Relation_Specificity': {'prompt': ['The distribution format of Runaway Sunday is', 'Runaway Sunday distribution format'], 'ground_truth': ['music streaming', 'music streaming']}}, 'subject': 'Runaway Sunday'}, 'post': {'rewrite_acc': [1.0], 'locality': {'Relation_Specificity_acc': [0.5, 1.0]}, 'portability': {'reasoning_acc': [0.6666666666666666]}, 'fluency': {'ngram_entropy': 2.0132979349379063}}}\n",
      "100%|██████████| 10/10 [18:43<00:00, 112.40s/it]"
     ]
    },
    {
     "name": "stdout",
     "output_type": "stream",
     "text": [
      "Metrics Summary:  {'pre': {'rewrite_acc': 0.25833333333333336, 'portability': {'reasoning_acc': 0.2733333333333333, 'Subject_Aliasing_acc': 0.0, 'Logical_Generalization_acc': 0.4166666666666667}}, 'post': {'rewrite_acc': 0.905, 'locality': {'Relation_Specificity_acc': 0.85}, 'portability': {'reasoning_acc': 0.3, 'Subject_Aliasing_acc': 0.6666666666666666, 'Logical_Generalization_acc': 0.49074074074074076}}}\n"
     ]
    },
    {
     "name": "stderr",
     "output_type": "stream",
     "text": [
      "\n"
     ]
    }
   ],
   "source": [
    "# 单条数据编辑\n",
    "metrics, edited_model, _ = editor.edit(\n",
    "    prompts=prompts,\n",
    "    target_new=target_new,\n",
    "    subject=subjects,\n",
    "    locality_inputs=locality_inputs,\n",
    "    portability_inputs=portability_inputs,\n",
    "    train_ds=train_ds,\n",
    "    keep_original_weight=True,\n",
    "    pre_file=pre_file,\n",
    "    pre_edit = pre_edit,\n",
    "    test_generation=True,\n",
    ")"
   ]
  },
  {
   "cell_type": "code",
   "execution_count": null,
   "metadata": {},
   "outputs": [],
   "source": [
    "# 批量数据编辑\n",
    "metrics, edited_model, _ = editor.batch_edit(\n",
    "    prompts=prompts,\n",
    "    target_new=target_new,\n",
    "    subject=subjects,\n",
    "    locality_inputs=locality_inputs,\n",
    "    portability_inputs=portability_inputs,\n",
    "    train_ds=train_ds,\n",
    "    keep_original_weight=True,\n",
    "    pre_file=pre_file,\n",
    "    pre_edit = pre_edit,\n",
    "    test_generation=True,\n",
    ")"
   ]
  },
  {
   "cell_type": "code",
   "execution_count": null,
   "metadata": {},
   "outputs": [],
   "source": [
    "if not os.path.exists(metrics_save_dir):\n",
    "    os.makedirs(metrics_save_dir)\n",
    "json.dump(metrics, open(os.path.join(metrics_save_dir, f'{editing_method}_{data_type}_{hparams_dir.split(\"/\")[-1]}_results.json'), 'w'), indent=4)\n"
   ]
  }
 ],
 "metadata": {
  "kernelspec": {
   "display_name": "ke2torch23cu121",
   "language": "python",
   "name": "python3"
  },
  "language_info": {
   "codemirror_mode": {
    "name": "ipython",
    "version": 3
   },
   "file_extension": ".py",
   "mimetype": "text/x-python",
   "name": "python",
   "nbconvert_exporter": "python",
   "pygments_lexer": "ipython3",
   "version": "3.9.19"
  }
 },
 "nbformat": 4,
 "nbformat_minor": 2
}
