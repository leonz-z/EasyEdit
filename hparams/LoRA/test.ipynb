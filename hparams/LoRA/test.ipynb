{
 "cells": [
  {
   "cell_type": "code",
   "execution_count": 13,
   "metadata": {},
   "outputs": [
    {
     "data": {
      "text/plain": [
       "{'alg_name': 'LoRA',\n",
       " 'model_name': 'gpt-j-6b',\n",
       " 'device': 0,\n",
       " 'lora_type': 'adalora',\n",
       " 'layers': [],\n",
       " 'num_steps': 50,\n",
       " 'batch_size': 1,\n",
       " 'max_length': 30,\n",
       " 'lr': '5e-3',\n",
       " 'weight_decay': 0,\n",
       " 'kl_factor': 0,\n",
       " 'rank': 8,\n",
       " 'lora_alpha': 32,\n",
       " 'lora_dropout': 0.1,\n",
       " 'norm_constraint': False,\n",
       " 'target_modules': ['fc_in', 'fc_out'],\n",
       " 'model_parallel': False}"
      ]
     },
     "execution_count": 13,
     "metadata": {},
     "output_type": "execute_result"
    }
   ],
   "source": [
    "# 读取yaml文件\n",
    "import yaml\n",
    "\n",
    "with open('./gpt-j-6b.yaml', 'r') as f:\n",
    "    hparams = yaml.load(f, Loader=yaml.FullLoader)\n",
    "\n",
    "hparams"
   ]
  },
  {
   "cell_type": "code",
   "execution_count": 15,
   "metadata": {},
   "outputs": [
    {
     "name": "stdout",
     "output_type": "stream",
     "text": [
      "['q_proj', 'k_proj', 'v_proj', 'out_proj']\n",
      "[0, 1, 2, 3, 4, 5, 6]\n",
      "[7, 8, 9, 10, 11, 12, 13]\n",
      "[14, 15, 16, 17, 18, 19, 20]\n",
      "[21, 22, 23, 24, 25, 26, 27]\n",
      "['fc_in', 'fc_out']\n",
      "[0, 1, 2, 3, 4, 5, 6]\n",
      "[7, 8, 9, 10, 11, 12, 13]\n",
      "[14, 15, 16, 17, 18, 19, 20]\n",
      "[21, 22, 23, 24, 25, 26, 27]\n",
      "['q_proj', 'k_proj', 'v_proj', 'out_proj', 'fc_in', 'fc_out']\n",
      "[0, 1, 2, 3, 4, 5, 6]\n",
      "[7, 8, 9, 10, 11, 12, 13]\n",
      "[14, 15, 16, 17, 18, 19, 20]\n",
      "[21, 22, 23, 24, 25, 26, 27]\n"
     ]
    }
   ],
   "source": [
    "# target_modules\n",
    "target_modules_dict ={\n",
    "    'attn': ['q_proj','k_proj','v_proj','out_proj'],\n",
    "    'mlp': ['fc_in','fc_out'],\n",
    "    'all': ['q_proj','k_proj','v_proj','out_proj','fc_in','fc_out'],\n",
    "}\n",
    "for target_modules in target_modules_dict:\n",
    "    print(target_modules_dict[target_modules])\n",
    "    # layers\n",
    "    for layer in range(0,28,7):\n",
    "        print([i for i in range(layer,layer+7)])\n",
    "        layers = [i for i in range(layer,layer+7)]\n",
    "        with open(f'./test/gpt-j-6b-{target_modules}-{layers[0]}-{layers[-1]}.yaml', 'w') as f:\n",
    "            hparams['layers'] = layers\n",
    "            hparams['target_modules'] = target_modules_dict[target_modules]\n",
    "            yaml.dump(hparams, f)"
   ]
  },
  {
   "cell_type": "code",
   "execution_count": 16,
   "metadata": {},
   "outputs": [
    {
     "data": {
      "text/plain": [
       "{'alg_name': 'LoRA',\n",
       " 'batch_size': 1,\n",
       " 'device': 0,\n",
       " 'kl_factor': 0,\n",
       " 'layers': [0, 1, 2, 3, 4, 5, 6],\n",
       " 'lora_alpha': 32,\n",
       " 'lora_dropout': 0.1,\n",
       " 'lora_type': 'adalora',\n",
       " 'lr': '5e-3',\n",
       " 'max_length': 30,\n",
       " 'model_name': 'gpt-j-6b',\n",
       " 'model_parallel': False,\n",
       " 'norm_constraint': False,\n",
       " 'num_steps': 50,\n",
       " 'rank': 8,\n",
       " 'target_modules': ['q_proj',\n",
       "  'k_proj',\n",
       "  'v_proj',\n",
       "  'out_proj',\n",
       "  'fc_in',\n",
       "  'fc_out'],\n",
       " 'weight_decay': 0}"
      ]
     },
     "execution_count": 16,
     "metadata": {},
     "output_type": "execute_result"
    }
   ],
   "source": [
    "with open('./test/gpt-j-6b-all-0-6.yaml', 'r') as f:\n",
    "    hparams = yaml.load(f, Loader=yaml.FullLoader)\n",
    "hparams"
   ]
  }
 ],
 "metadata": {
  "kernelspec": {
   "display_name": "ke2torch23cu121",
   "language": "python",
   "name": "python3"
  },
  "language_info": {
   "codemirror_mode": {
    "name": "ipython",
    "version": 3
   },
   "file_extension": ".py",
   "mimetype": "text/x-python",
   "name": "python",
   "nbconvert_exporter": "python",
   "pygments_lexer": "ipython3",
   "version": "3.10.14"
  }
 },
 "nbformat": 4,
 "nbformat_minor": 2
}
