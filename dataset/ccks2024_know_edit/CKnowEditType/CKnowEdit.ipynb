{
 "cells": [
  {
   "cell_type": "markdown",
   "metadata": {},
   "source": [
    "统计分析每个子数据集问答对的token长度"
   ]
  },
  {
   "cell_type": "code",
   "execution_count": 10,
   "metadata": {},
   "outputs": [],
   "source": [
    "import json\n",
    "import os\n",
    "from transformers import AutoTokenizer\n",
    "import numpy as np\n",
    "\n",
    "model_name_path = '/share/huggingface/Qwen-1_8B-Chat'\n",
    "tok = AutoTokenizer.from_pretrained(model_name_path, eos_token='<|endoftext|>', pad_token='<|endoftext|>',unk_token='<|endoftext|>', trust_remote_code=True)"
   ]
  },
  {
   "cell_type": "code",
   "execution_count": 11,
   "metadata": {},
   "outputs": [
    {
     "data": {
      "text/plain": [
       "({'input_ids': [108386, 3837, 99489, 6313], 'token_type_ids': [0, 0, 0, 0], 'attention_mask': [1, 1, 1, 1]},\n",
       " {'input_ids': tensor([[108386,   3837,  99489,   6313]]), 'token_type_ids': tensor([[0, 0, 0, 0]]), 'attention_mask': tensor([[1, 1, 1, 1]])})"
      ]
     },
     "execution_count": 11,
     "metadata": {},
     "output_type": "execute_result"
    }
   ],
   "source": [
    "tok(\"你好，世界！\"), tok(\"你好，世界！\", return_tensors=\"pt\")"
   ]
  },
  {
   "cell_type": "code",
   "execution_count": 12,
   "metadata": {},
   "outputs": [
    {
     "data": {
      "text/plain": [
       "([108386, 3837, 99489, 6313], tensor([[108386,   3837,  99489,   6313]]))"
      ]
     },
     "execution_count": 12,
     "metadata": {},
     "output_type": "execute_result"
    }
   ],
   "source": [
    "tok.encode(\"你好，世界！\"), tok.encode(\"你好，世界！\", return_tensors=\"pt\")"
   ]
  },
  {
   "cell_type": "code",
   "execution_count": 16,
   "metadata": {},
   "outputs": [
    {
     "name": "stdout",
     "output_type": "stream",
     "text": [
      "type1_133.json\n",
      "prompt token length: 22.31\n",
      "target token length: 12.38\n",
      "type2_80.json\n",
      "prompt token length: 15.16\n",
      "target token length: 16.85\n",
      "type3_40.json\n",
      "prompt token length: 8.8\n",
      "target token length: 39.0\n",
      "type4_50.json\n",
      "prompt token length: 9.86\n",
      "target token length: 8.68\n",
      "type5_70.json\n",
      "prompt token length: 24.56\n",
      "target token length: 2.7\n",
      "type6_50.json\n",
      "prompt token length: 8.28\n",
      "target token length: 8.66\n",
      "type7_277.json\n",
      "prompt token length: 18.22\n",
      "target token length: 195.69\n"
     ]
    }
   ],
   "source": [
    "root_dir = './'            \n",
    "file_name_list = os.listdir(root_dir)\n",
    "file_name_list.sort()\n",
    "\n",
    "for file_name in file_name_list:\n",
    "    if not file_name.endswith('.json'):\n",
    "        continue\n",
    "    print(file_name)\n",
    "    path = os.path.join(root_dir, file_name)\n",
    "    with open(path, 'r', encoding='utf-8') as f:\n",
    "        data_list = json.load(f)\n",
    "\n",
    "    prompt_token_len_list,target_token_len_list = [],[]\n",
    "    for data in data_list:\n",
    "        prompt_token_len_list.append(tok(data['prompt'], return_tensors='pt')['input_ids'].shape[1])\n",
    "        target_token_len_list.append(tok(data['target_new'], return_tensors='pt')['input_ids'].shape[1])\n",
    "    # 保留两位小数,四舍五入\n",
    "    print('prompt token length:',round(np.mean(prompt_token_len_list),2))\n",
    "    print('target token length:',round(np.mean(target_token_len_list),2))\n"
   ]
  },
  {
   "cell_type": "code",
   "execution_count": null,
   "metadata": {},
   "outputs": [],
   "source": [
    "from transformers import AutoTokenizer\n",
    "\n",
    "# Load the tokenizer\n",
    "model_path = '/share/huggingface/'\n",
    "model_name = 'Qwen-1_8B-Chat'\n",
    "tokenizer = AutoTokenizer.from_pretrained(model_path + model_name, trust_remote_code=True)\n",
    "\n",
    "# Print some tokens from the tokenizer's vocabulary to identify a suitable PAD/EOS token\n",
    "for i, token in enumerate(tokenizer.get_vocab()):\n",
    "    if i < 10:  # Print the first 10 tokens as a sample\n",
    "        print(f\"Token ID: {i}, Token: {tokenizer.convert_ids_to_tokens(i)}\")\n"
   ]
  },
  {
   "cell_type": "code",
   "execution_count": null,
   "metadata": {},
   "outputs": [],
   "source": [
    "len(tokenizer.get_vocab())"
   ]
  },
  {
   "cell_type": "code",
   "execution_count": null,
   "metadata": {},
   "outputs": [],
   "source": [
    "list(tokenizer.get_vocab().keys())[-1]"
   ]
  },
  {
   "cell_type": "code",
   "execution_count": null,
   "metadata": {},
   "outputs": [],
   "source": [
    "tokenizer.convert_ids_to_tokens(151643)"
   ]
  },
  {
   "cell_type": "code",
   "execution_count": null,
   "metadata": {},
   "outputs": [],
   "source": [
    "from transformers import AutoTokenizer\n",
    "\n",
    "model_path = '/share/huggingface/'\n",
    "model_name = 'Qwen-1_8B-Chat'\n",
    "tokenizer = AutoTokenizer.from_pretrained(model_path + model_name, trust_remote_code=True)\n",
    "tokenizer.pad_token = tokenizer.eos_token = '<|endoftext|>'\n",
    "tokenizer.pad_token_id = tokenizer.eos_token_id = 151643\n",
    "prompt_tokens = tokenizer.batch_encode_plus(prompt_list, padding=True, return_tensors='pt')['input_ids']\n",
    "# ValueError: Asking to pad but the tokenizer does not have a padding token. Please select a token to use as `pad_token` `(tokenizer.pad_token = tokenizer.eos_token e.g.)` or add a new pad token via `tokenizer.add_special_tokens({'pad_token': '[PAD]'})`."
   ]
  },
  {
   "cell_type": "code",
   "execution_count": null,
   "metadata": {},
   "outputs": [],
   "source": [
    "prompt_tokens.shape"
   ]
  },
  {
   "cell_type": "code",
   "execution_count": null,
   "metadata": {},
   "outputs": [],
   "source": [
    "def tokenize_prompt_list(prompt_list):\n",
    "    token_list, token_length_list = [], []\n",
    "    for prompt in prompt_list:\n",
    "        token_list.append(tokenizer(prompt, padding=False)['input_ids'])\n",
    "        token_length_list.append(len(token_list[-1]))\n",
    "    return token_list, token_length_list\n",
    "\n",
    "token_list, token_length_list = tokenize_prompt_list(prompt_list)\n",
    "sum(token_length_list) / len(token_length_list)"
   ]
  }
 ],
 "metadata": {
  "kernelspec": {
   "display_name": "ke2torch23cu121",
   "language": "python",
   "name": "python3"
  },
  "language_info": {
   "codemirror_mode": {
    "name": "ipython",
    "version": 3
   },
   "file_extension": ".py",
   "mimetype": "text/x-python",
   "name": "python",
   "nbconvert_exporter": "python",
   "pygments_lexer": "ipython3",
   "version": "3.9.19"
  }
 },
 "nbformat": 4,
 "nbformat_minor": 2
}
