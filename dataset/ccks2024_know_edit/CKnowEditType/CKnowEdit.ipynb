{
 "cells": [
  {
   "cell_type": "markdown",
   "metadata": {},
   "source": [
    "统计分析每个子数据集问答对的token长度"
   ]
  },
  {
   "cell_type": "code",
   "execution_count": 2,
   "metadata": {},
   "outputs": [],
   "source": [
    "import json\n",
    "\n",
    "\n",
    "path = './type1_113.json'\n",
    "with open(path, 'r', encoding='utf-8') as f:\n",
    "    datas = json.load(f)"
   ]
  },
  {
   "cell_type": "code",
   "execution_count": 3,
   "metadata": {},
   "outputs": [],
   "source": [
    "prompt_list = [data['prompt'] for data in datas]\n",
    "target_new_list = [data['target_new'] for data in datas]"
   ]
  },
  {
   "cell_type": "code",
   "execution_count": 4,
   "metadata": {},
   "outputs": [
    {
     "name": "stdout",
     "output_type": "stream",
     "text": [
      "Token ID: 0, Token: b'!'\n",
      "Token ID: 1, Token: b'\"'\n",
      "Token ID: 2, Token: b'#'\n",
      "Token ID: 3, Token: b'$'\n",
      "Token ID: 4, Token: b'%'\n",
      "Token ID: 5, Token: b'&'\n",
      "Token ID: 6, Token: b\"'\"\n",
      "Token ID: 7, Token: b'('\n",
      "Token ID: 8, Token: b')'\n",
      "Token ID: 9, Token: b'*'\n"
     ]
    }
   ],
   "source": [
    "from transformers import AutoTokenizer\n",
    "\n",
    "# Load the tokenizer\n",
    "model_path = '/share/huggingface/'\n",
    "model_name = 'Qwen-1_8B-Chat'\n",
    "tokenizer = AutoTokenizer.from_pretrained(model_path + model_name, trust_remote_code=True)\n",
    "\n",
    "# Print some tokens from the tokenizer's vocabulary to identify a suitable PAD/EOS token\n",
    "for i, token in enumerate(tokenizer.get_vocab()):\n",
    "    if i < 10:  # Print the first 10 tokens as a sample\n",
    "        print(f\"Token ID: {i}, Token: {tokenizer.convert_ids_to_tokens(i)}\")\n"
   ]
  },
  {
   "cell_type": "code",
   "execution_count": 6,
   "metadata": {},
   "outputs": [
    {
     "data": {
      "text/plain": [
       "151643"
      ]
     },
     "execution_count": 6,
     "metadata": {},
     "output_type": "execute_result"
    }
   ],
   "source": [
    "len(tokenizer.get_vocab())"
   ]
  },
  {
   "cell_type": "code",
   "execution_count": 9,
   "metadata": {},
   "outputs": [
    {
     "data": {
      "text/plain": [
       "b'\\xe2\\xbd\\x97'"
      ]
     },
     "execution_count": 9,
     "metadata": {},
     "output_type": "execute_result"
    }
   ],
   "source": [
    "list(tokenizer.get_vocab().keys())[-1]"
   ]
  },
  {
   "cell_type": "code",
   "execution_count": 10,
   "metadata": {},
   "outputs": [
    {
     "data": {
      "text/plain": [
       "'<|endoftext|>'"
      ]
     },
     "execution_count": 10,
     "metadata": {},
     "output_type": "execute_result"
    }
   ],
   "source": [
    "tokenizer.convert_ids_to_tokens(151643)"
   ]
  },
  {
   "cell_type": "code",
   "execution_count": 11,
   "metadata": {},
   "outputs": [],
   "source": [
    "from transformers import AutoTokenizer\n",
    "\n",
    "model_path = '/share/huggingface/'\n",
    "model_name = 'Qwen-1_8B-Chat'\n",
    "tokenizer = AutoTokenizer.from_pretrained(model_path + model_name, trust_remote_code=True)\n",
    "tokenizer.pad_token = tokenizer.eos_token = '<|endoftext|>'\n",
    "tokenizer.pad_token_id = tokenizer.eos_token_id = 151643\n",
    "prompt_tokens = tokenizer.batch_encode_plus(prompt_list, padding=True, return_tensors='pt')['input_ids']\n",
    "# ValueError: Asking to pad but the tokenizer does not have a padding token. Please select a token to use as `pad_token` `(tokenizer.pad_token = tokenizer.eos_token e.g.)` or add a new pad token via `tokenizer.add_special_tokens({'pad_token': '[PAD]'})`."
   ]
  },
  {
   "cell_type": "code",
   "execution_count": 13,
   "metadata": {},
   "outputs": [
    {
     "data": {
      "text/plain": [
       "torch.Size([133, 41])"
      ]
     },
     "execution_count": 13,
     "metadata": {},
     "output_type": "execute_result"
    }
   ],
   "source": [
    "prompt_tokens.shape"
   ]
  },
  {
   "cell_type": "code",
   "execution_count": 15,
   "metadata": {},
   "outputs": [
    {
     "data": {
      "text/plain": [
       "22.30827067669173"
      ]
     },
     "execution_count": 15,
     "metadata": {},
     "output_type": "execute_result"
    }
   ],
   "source": [
    "def tokenize_prompt_list(prompt_list):\n",
    "    token_list, token_length_list = [], []\n",
    "    for prompt in prompt_list:\n",
    "        token_list.append(tokenizer(prompt, padding=False)['input_ids'])\n",
    "        token_length_list.append(len(token_list[-1]))\n",
    "    return token_list, token_length_list\n",
    "\n",
    "token_list, token_length_list = tokenize_prompt_list(prompt_list)\n",
    "sum(token_length_list) / len(token_length_list)"
   ]
  }
 ],
 "metadata": {
  "kernelspec": {
   "display_name": "ke2torch23cu121",
   "language": "python",
   "name": "python3"
  },
  "language_info": {
   "codemirror_mode": {
    "name": "ipython",
    "version": 3
   },
   "file_extension": ".py",
   "mimetype": "text/x-python",
   "name": "python",
   "nbconvert_exporter": "python",
   "pygments_lexer": "ipython3",
   "version": "3.9.19"
  }
 },
 "nbformat": 4,
 "nbformat_minor": 2
}
