{
 "cells": [
  {
   "cell_type": "code",
   "execution_count": null,
   "metadata": {},
   "outputs": [],
   "source": [
    "import json\n",
    "import re\n",
    "\n",
    "\n",
    "with open('./wiki_counterfact_test_cf-generate-10.json', 'r') as f:\n",
    "    data_lines = f.readlines()\n",
    "data = [json.loads(line) for line in data_lines]\n",
    "\n",
    "with open('./benchmark_wiki_counterfact_test_cf.json', 'r') as f1,\\\n",
    "     open('./wiki_counterfact_test_cf_prompt10.json', 'w') as f2:\n",
    "    data_cf = json.load(f1)\n",
    "    assert len(data_cf) == len(data)\n",
    "    for i in range(len(data)):\n",
    "        data_cf[i]['generate_prompt'] = [re.sub(r'^\\d+\\.\\s*', '', s) for s in data[i]['generate_prompt']]    \n",
    "    json.dump(data_cf, f2, indent=4, ensure_ascii=False)\n"
   ]
  },
  {
   "cell_type": "code",
   "execution_count": null,
   "metadata": {},
   "outputs": [],
   "source": [
    "with open('./ZsRE-test-all-generate-10.json', 'r') as f:\n",
    "    data_lines = f.readlines()\n",
    "data = [json.loads(line) for line in data_lines]\n",
    "\n",
    "with open('./benchmark_ZsRE_ZsRE-test-all.json', 'r') as f1,\\\n",
    "     open('./ZsRE-test-all-prompt10.json', 'w') as f2:\n",
    "    data_cf = json.load(f1)\n",
    "    assert len(data_cf) == len(data)\n",
    "    for i in range(len(data)):\n",
    "        data_cf[i]['generate_prompt'] = [re.sub(r'^\\d+\\.\\s*', '', s) for s in data[i]['generate_prompt']]    \n",
    "    json.dump(data_cf, f2, indent=4, ensure_ascii=False)"
   ]
  },
  {
   "cell_type": "code",
   "execution_count": 1,
   "metadata": {},
   "outputs": [],
   "source": [
    "import json, re\n",
    "from zhipuai import ZhipuAI\n",
    "client = ZhipuAI(api_key=\"1239bfa4ba1cc7135d4476e3ad30af96.JjzOdCR7qNwFSZk7\")\n",
    "# TODO:暂未考虑主体同义替换\n",
    "n = 10\n",
    "system_prompt = f\"\"\"You are an expert in sentence rewriting. Your task is to perform a synonymous rewriting of the input sentence and output {n} rewritten sentences.\n",
    "\n",
    "Requirements:\n",
    "1. The semantic meaning of the rewritten sentences must strictly match the original sentence.\n",
    "2. Use different grammatical structures and expressions to rephrase the input sentence as much as possible.\n",
    "3. Output format requirements: separate the {n} rewritten sentences with a newline (\\n).\"\"\""
   ]
  },
  {
   "cell_type": "code",
   "execution_count": 3,
   "metadata": {},
   "outputs": [
    {
     "name": "stdout",
     "output_type": "stream",
     "text": [
      "11\n",
      "12\n",
      "12\n",
      "12\n",
      "19\n",
      "12\n",
      "12\n",
      "19\n",
      "12\n",
      "19\n"
     ]
    },
    {
     "data": {
      "text/plain": [
       "10"
      ]
     },
     "execution_count": 3,
     "metadata": {},
     "output_type": "execute_result"
    }
   ],
   "source": [
    "cnt = 0\n",
    "with open('./wiki_counterfact_test_cf_prompt10.json', 'r') as f,\\\n",
    "    open('./wiki_counterfact_test_cf_prompt10_v3.json', 'w') as fw:\n",
    "    data = json.load(f)\n",
    "    for i in range(len(data)):\n",
    "        if len(data[i]['generate_prompt']) != 10:\n",
    "            user_prompt = data[i]['prompt']\n",
    "            response = client.chat.completions.create(\n",
    "                model=\"glm-4\",\n",
    "                messages=[\n",
    "                    {\"role\": \"system\", \"content\": system_prompt},\n",
    "                    {\"role\": \"user\", \"content\": user_prompt},\n",
    "                ],\n",
    "            )\n",
    "            data[i]['generate_prompt'] = response.choices[0].message.content.split('\\n')\n",
    "            data[i]['generate_prompt'] = [re.sub(r'^\\d+\\.\\s*', '', s) for s in data[i]['generate_prompt']]\n",
    "            if len(data[i]['generate_prompt']) != 10:\n",
    "                print(len(data[i]['generate_prompt']))\n",
    "                cnt += 1\n",
    "    json.dump(data, fw, indent=4, ensure_ascii=False)\n",
    "cnt"
   ]
  },
  {
   "cell_type": "code",
   "execution_count": null,
   "metadata": {},
   "outputs": [],
   "source": [
    "cnt = 0\n",
    "with open('./wiki_counterfact_test_cf_prompt10.json', 'r') as f,\\\n",
    "    open('./wiki_counterfact_test_cf_prompt10_v4.json', 'w') as fw:\n",
    "    data = json.load(f)\n",
    "    for i in range(len(data)):\n",
    "        if len(data[i]['generate_prompt']) != 10:\n",
    "            user_prompt = data[i]['prompt']\n",
    "            response = client.chat.completions.create(\n",
    "                model=\"glm-4\",\n",
    "                messages=[\n",
    "                    {\"role\": \"system\", \"content\": system_prompt},\n",
    "                    {\"role\": \"user\", \"content\": user_prompt},\n",
    "                ],\n",
    "            )\n",
    "            data[i]['generate_prompt'] = response.choices[0].message.content.split('\\n')\n",
    "            data[i]['generate_prompt'] = [re.sub(r'^\\d+\\.\\s*', '', s) for s in data[i]['generate_prompt']]\n",
    "            if len(data[i]['generate_prompt']) != 10:\n",
    "                print(len(data[i]['generate_prompt']))\n",
    "                cnt += 1\n",
    "    json.dump(data, fw, indent=4, ensure_ascii=False)\n",
    "cnt"
   ]
  },
  {
   "cell_type": "code",
   "execution_count": null,
   "metadata": {},
   "outputs": [],
   "source": [
    "cnt = 0\n",
    "with open('./ZsRE-test-all-prompt10.json', 'r') as f,\\\n",
    "    open('./ZsRE-test-all-prompt10-v2.json', 'w') as fw:\n",
    "    data = json.load(f)\n",
    "    for i in range(len(data)):\n",
    "        if len(data[i]['generate_prompt']) != 10:\n",
    "            user_prompt = data[i]['prompt']\n",
    "            response = client.chat.completions.create(\n",
    "                model=\"glm-4\",\n",
    "                messages=[\n",
    "                    {\"role\": \"system\", \"content\": system_prompt},\n",
    "                    {\"role\": \"user\", \"content\": user_prompt},\n",
    "                ],\n",
    "            )\n",
    "            data[i]['generate_prompt'] = response.choices[0].message.content.split('\\n')\n",
    "            data[i]['generate_prompt'] = [re.sub(r'^\\d+\\.\\s*', '', s) for s in data[i]['generate_prompt']]\n",
    "            if len(data[i]['generate_prompt']) != 10:\n",
    "                print(len(data[i]['generate_prompt']))\n",
    "                cnt += 1\n",
    "    json.dump(data, fw, indent=4, ensure_ascii=False)\n",
    "cnt"
   ]
  },
  {
   "cell_type": "code",
   "execution_count": null,
   "metadata": {},
   "outputs": [],
   "source": [
    "cnt = 0\n",
    "with open('./ZsRE-test-all-prompt10.json', 'r') as f:\n",
    "    data = json.load(f)\n",
    "    for i in range(len(data)):\n",
    "        if len(data[i]['generate_prompt']) != 10:\n",
    "            print(len(data[i]['generate_prompt']))\n",
    "            cnt += 1\n",
    "cnt"
   ]
  },
  {
   "cell_type": "code",
   "execution_count": null,
   "metadata": {},
   "outputs": [],
   "source": [
    "import re\n",
    "\n",
    "\n",
    "sentence_list = data[0]['generate_prompt']\n",
    "pattern = r'^\\d+\\.\\s*'\n",
    "[re.sub(pattern, '', s) for s in sentence_list]    "
   ]
  }
 ],
 "metadata": {
  "kernelspec": {
   "display_name": "ke2torch23cu121",
   "language": "python",
   "name": "python3"
  },
  "language_info": {
   "codemirror_mode": {
    "name": "ipython",
    "version": 3
   },
   "file_extension": ".py",
   "mimetype": "text/x-python",
   "name": "python",
   "nbconvert_exporter": "python",
   "pygments_lexer": "ipython3",
   "version": "3.11.9"
  }
 },
 "nbformat": 4,
 "nbformat_minor": 2
}
