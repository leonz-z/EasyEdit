{
 "cells": [
  {
   "cell_type": "markdown",
   "metadata": {},
   "source": [
    "LoRA\n",
    "dataset ZsRE-test-all\n",
    "\n",
    "alg_name: LoRA\n",
    "model_name: gpt-j-6b\n",
    "device: 0\n",
    "\n",
    "lora_type: adalora\n",
    "layers: []\n",
    "num_steps: 50\n",
    "batch_size: 1\n",
    "max_length: 30\n",
    "lr: 5e-3\n",
    "weight_decay: 0\n",
    "kl_factor: 0\n",
    "rank: 8\n",
    "lora_alpha: 32\n",
    "lora_dropout: 0.1\n",
    "norm_constraint: false\n",
    "target_modules: [\"fc_in\", \"fc_out\"]\n",
    "model_parallel: false"
   ]
  },
  {
   "cell_type": "code",
   "execution_count": 1,
   "metadata": {},
   "outputs": [],
   "source": [
    "metrics_lora =  {\n",
    "    'pre': {\n",
    "        'rewrite_acc': 0.28060724398157144, \n",
    "        'portability': {\n",
    "            'Subject_Aliasing_acc': 0.2044359949302915, \n",
    "            'reasoning_acc': 0.49394760772274, \n",
    "            'Logical_Generalization_acc': 0.48422419480587403\n",
    "            }\n",
    "        }, \n",
    "    'post': {\n",
    "        'rewrite_acc': 1.0, \n",
    "        'locality': {\n",
    "            'Relation_Specificity_acc': 0.43343227594623573\n",
    "            }, \n",
    "        'portability': {\n",
    "            'Subject_Aliasing_acc': 0.4599809885931559, \n",
    "            'reasoning_acc': 0.5100968256894881, \n",
    "            'Logical_Generalization_acc': 0.49693873921828413\n",
    "            }\n",
    "        }\n",
    "    }"
   ]
  },
  {
   "cell_type": "code",
   "execution_count": 2,
   "metadata": {},
   "outputs": [
    {
     "data": {
      "text/plain": [
       "{'rewrite_acc': 1.0,\n",
       " 'locality Relation_Specificity_acc': 0.43343227594623573,\n",
       " 'portability Subject_Aliasing_acc': 0.4599809885931559,\n",
       " 'portability reasoning_acc': 0.5100968256894881,\n",
       " 'portability Logical_Generalization_acc': 0.49693873921828413}"
      ]
     },
     "execution_count": 2,
     "metadata": {},
     "output_type": "execute_result"
    }
   ],
   "source": [
    "post_lora = {}\n",
    "for k1 in metrics_lora['post']:\n",
    "    if type(metrics_lora['post'][k1]) == dict:\n",
    "        for k2 in metrics_lora['post'][k1]:\n",
    "            post_lora[k1+' '+k2] = metrics_lora['post'][k1][k2]\n",
    "    else:\n",
    "        post_lora[k1] = metrics_lora['post'][k1]\n",
    "\n",
    "post_lora"
   ]
  },
  {
   "cell_type": "markdown",
   "metadata": {},
   "source": [
    "0-5"
   ]
  },
  {
   "cell_type": "code",
   "execution_count": 3,
   "metadata": {},
   "outputs": [],
   "source": [
    "metrics05 = {\n",
    "    'pre': {\n",
    "        'rewrite_acc': 0.28060724398157144, \n",
    "        'portability': {\n",
    "            'Logical_Generalization_acc': 0.48422419480587403, \n",
    "            'Subject_Aliasing_acc': 0.2044359949302915, \n",
    "            'reasoning_acc': 0.49394760772274\n",
    "            }\n",
    "    }, \n",
    "    'post': {\n",
    "        'rewrite_acc': 0.9959283179882717, \n",
    "        'locality': {\n",
    "            'Relation_Specificity_acc': 0.694967116662532\n",
    "            }, \n",
    "        'portability': {\n",
    "            'Logical_Generalization_acc': 0.4830881831798618, \n",
    "            'Subject_Aliasing_acc': 0.3275665399239544, \n",
    "            'reasoning_acc': 0.5433296928416551\n",
    "            }\n",
    "        }\n",
    "    }\n"
   ]
  },
  {
   "cell_type": "markdown",
   "metadata": {},
   "source": [
    "3-8"
   ]
  },
  {
   "cell_type": "code",
   "execution_count": 4,
   "metadata": {},
   "outputs": [
    {
     "data": {
      "text/plain": [
       "{'pre': {'rewrite_acc': 0.28060724398157144,\n",
       "  'portability': {'Logical_Generalization_acc': 0.48422419480587403,\n",
       "   'Subject_Aliasing_acc': 0.2044359949302915,\n",
       "   'reasoning_acc': 0.49394760772274}},\n",
       " 'post': {'rewrite_acc': 0.9973021086011093,\n",
       "  'locality': {'Relation_Specificity_acc': 0.7134131010685245},\n",
       "  'portability': {'Logical_Generalization_acc': 0.48469286061657546,\n",
       "   'Subject_Aliasing_acc': 0.36210392902408106,\n",
       "   'reasoning_acc': 0.5480009581768687}}}"
      ]
     },
     "execution_count": 4,
     "metadata": {},
     "output_type": "execute_result"
    }
   ],
   "source": [
    "metrics38 = {\n",
    "    'pre': {\n",
    "        'rewrite_acc': 0.28060724398157144, \n",
    "        'portability': {\n",
    "            'Logical_Generalization_acc': 0.48422419480587403, \n",
    "            'Subject_Aliasing_acc': 0.2044359949302915, \n",
    "            'reasoning_acc': 0.49394760772274\n",
    "            }\n",
    "        }, \n",
    "    'post': {\n",
    "        'rewrite_acc': 0.9973021086011093, \n",
    "        'locality': {\n",
    "            'Relation_Specificity_acc': 0.7134131010685245\n",
    "            }, \n",
    "        'portability': {\n",
    "                'Logical_Generalization_acc': 0.48469286061657546, \n",
    "                'Subject_Aliasing_acc': 0.36210392902408106, \n",
    "                'reasoning_acc': 0.5480009581768687\n",
    "                }\n",
    "            }\n",
    "        }\n",
    "metrics38"
   ]
  },
  {
   "cell_type": "markdown",
   "metadata": {},
   "source": [
    "22-27"
   ]
  },
  {
   "cell_type": "code",
   "execution_count": 5,
   "metadata": {},
   "outputs": [],
   "source": [
    "metrics22_27 = {\n",
    "    'pre': {\n",
    "        'rewrite_acc': 0.27971812328076734, \n",
    "        'portability': {\n",
    "            'Subject_Aliasing_acc': 0.20221799746514574, \n",
    "            'reasoning_acc': 0.4917965108731995, \n",
    "            'Logical_Generalization_acc': 0.4827676821134062\n",
    "            }\n",
    "        }, \n",
    "    'post': {\n",
    "        'rewrite_acc': 0.15955191149272624, \n",
    "        'locality': {\n",
    "            'Relation_Specificity_acc': 0.6372450211027437\n",
    "            }, \n",
    "        'portability': {\n",
    "            'Subject_Aliasing_acc': 0.12671102661596959, \n",
    "            'reasoning_acc': 0.31702574813457707, \n",
    "            'Logical_Generalization_acc': 0.3116323045714556\n",
    "            }\n",
    "        }\n",
    "    }\n"
   ]
  },
  {
   "cell_type": "code",
   "execution_count": 6,
   "metadata": {},
   "outputs": [
    {
     "data": {
      "text/plain": [
       "{'rewrite_acc': 0.15955191149272624,\n",
       " 'locality Relation_Specificity_acc': 0.6372450211027437,\n",
       " 'portability Subject_Aliasing_acc': 0.12671102661596959,\n",
       " 'portability reasoning_acc': 0.31702574813457707,\n",
       " 'portability Logical_Generalization_acc': 0.3116323045714556}"
      ]
     },
     "execution_count": 6,
     "metadata": {},
     "output_type": "execute_result"
    }
   ],
   "source": [
    "post22_27 = {}\n",
    "for k1 in metrics22_27['post']:\n",
    "    if type(metrics22_27['post'][k1]) == dict:\n",
    "        for k2 in metrics22_27['post'][k1]:\n",
    "            post22_27[k1+' '+k2] = metrics22_27['post'][k1][k2]\n",
    "    else:\n",
    "        post22_27[k1] = metrics22_27['post'][k1]\n",
    "\n",
    "post22_27"
   ]
  },
  {
   "cell_type": "code",
   "execution_count": 7,
   "metadata": {},
   "outputs": [
    {
     "data": {
      "text/plain": [
       "{'rewrite_acc': 0.28060724398157144,\n",
       " 'portability Logical_Generalization_acc': 0.48422419480587403,\n",
       " 'portability Subject_Aliasing_acc': 0.2044359949302915,\n",
       " 'portability reasoning_acc': 0.49394760772274}"
      ]
     },
     "execution_count": 7,
     "metadata": {},
     "output_type": "execute_result"
    }
   ],
   "source": [
    "pre = {}\n",
    "for k1 in metrics38['pre']:\n",
    "    if type(metrics38['pre'][k1]) == dict:\n",
    "        for k2 in metrics38['pre'][k1]:\n",
    "            pre[k1+' '+k2] = metrics38['pre'][k1][k2]\n",
    "    else:\n",
    "        pre[k1] = metrics38['pre'][k1]\n",
    "\n",
    "pre"
   ]
  },
  {
   "cell_type": "code",
   "execution_count": 8,
   "metadata": {},
   "outputs": [
    {
     "data": {
      "text/plain": [
       "{'rewrite_acc': 0.9973021086011093,\n",
       " 'locality Relation_Specificity_acc': 0.7134131010685245,\n",
       " 'portability Logical_Generalization_acc': 0.48469286061657546,\n",
       " 'portability Subject_Aliasing_acc': 0.36210392902408106,\n",
       " 'portability reasoning_acc': 0.5480009581768687}"
      ]
     },
     "execution_count": 8,
     "metadata": {},
     "output_type": "execute_result"
    }
   ],
   "source": [
    "post38 = {}\n",
    "for k1 in metrics38['post']:\n",
    "    if type(metrics38['post'][k1]) == dict:\n",
    "        for k2 in metrics38['post'][k1]:\n",
    "            post38[k1+' '+k2] = metrics38['post'][k1][k2]\n",
    "    else:\n",
    "        post38[k1] = metrics38['post'][k1]\n",
    "\n",
    "post38"
   ]
  },
  {
   "cell_type": "code",
   "execution_count": 9,
   "metadata": {},
   "outputs": [
    {
     "data": {
      "text/plain": [
       "{'rewrite_acc': 0.9959283179882717,\n",
       " 'locality Relation_Specificity_acc': 0.694967116662532,\n",
       " 'portability Logical_Generalization_acc': 0.4830881831798618,\n",
       " 'portability Subject_Aliasing_acc': 0.3275665399239544,\n",
       " 'portability reasoning_acc': 0.5433296928416551}"
      ]
     },
     "execution_count": 9,
     "metadata": {},
     "output_type": "execute_result"
    }
   ],
   "source": [
    "post05 = {}\n",
    "for k1 in metrics05['post']:\n",
    "    if type(metrics05['post'][k1]) == dict:\n",
    "        for k2 in metrics05['post'][k1]:\n",
    "            post05[k1+' '+k2] = metrics05['post'][k1][k2]\n",
    "    else:\n",
    "        post05[k1] = metrics05['post'][k1]\n",
    "\n",
    "post05"
   ]
  },
  {
   "cell_type": "code",
   "execution_count": 10,
   "metadata": {},
   "outputs": [
    {
     "data": {
      "text/plain": [
       "{'pre': {'rewrite_acc': 0.28060724398157144,\n",
       "  'portability Logical_Generalization_acc': 0.48422419480587403,\n",
       "  'portability Subject_Aliasing_acc': 0.2044359949302915,\n",
       "  'portability reasoning_acc': 0.49394760772274},\n",
       " 'MEMIT05': {'rewrite_acc': 0.9959283179882717,\n",
       "  'locality Relation_Specificity_acc': 0.694967116662532,\n",
       "  'portability Logical_Generalization_acc': 0.4830881831798618,\n",
       "  'portability Subject_Aliasing_acc': 0.3275665399239544,\n",
       "  'portability reasoning_acc': 0.5433296928416551},\n",
       " 'MEMIT38': {'rewrite_acc': 0.9973021086011093,\n",
       "  'locality Relation_Specificity_acc': 0.7134131010685245,\n",
       "  'portability Logical_Generalization_acc': 0.48469286061657546,\n",
       "  'portability Subject_Aliasing_acc': 0.36210392902408106,\n",
       "  'portability reasoning_acc': 0.5480009581768687},\n",
       " 'MEMIT22_27': {'rewrite_acc': 0.15955191149272624,\n",
       "  'locality Relation_Specificity_acc': 0.6372450211027437,\n",
       "  'portability Subject_Aliasing_acc': 0.12671102661596959,\n",
       "  'portability reasoning_acc': 0.31702574813457707,\n",
       "  'portability Logical_Generalization_acc': 0.3116323045714556},\n",
       " 'LoRA': {'rewrite_acc': 1.0,\n",
       "  'locality Relation_Specificity_acc': 0.43343227594623573,\n",
       "  'portability Subject_Aliasing_acc': 0.4599809885931559,\n",
       "  'portability reasoning_acc': 0.5100968256894881,\n",
       "  'portability Logical_Generalization_acc': 0.49693873921828413}}"
      ]
     },
     "execution_count": 10,
     "metadata": {},
     "output_type": "execute_result"
    }
   ],
   "source": [
    "# pre['locality Relation_Specificity_acc'] = 0\n",
    "metrics = {\n",
    "    'pre': pre,\n",
    "    'MEMIT05': post05,\n",
    "    'MEMIT38': post38,\n",
    "    'MEMIT22_27': post22_27,\n",
    "    'LoRA': post_lora,\n",
    "}\n",
    "metrics"
   ]
  },
  {
   "cell_type": "code",
   "execution_count": 11,
   "metadata": {},
   "outputs": [
    {
     "data": {
      "text/html": [
       "<div>\n",
       "<style scoped>\n",
       "    .dataframe tbody tr th:only-of-type {\n",
       "        vertical-align: middle;\n",
       "    }\n",
       "\n",
       "    .dataframe tbody tr th {\n",
       "        vertical-align: top;\n",
       "    }\n",
       "\n",
       "    .dataframe thead th {\n",
       "        text-align: right;\n",
       "    }\n",
       "</style>\n",
       "<table border=\"1\" class=\"dataframe\">\n",
       "  <thead>\n",
       "    <tr style=\"text-align: right;\">\n",
       "      <th></th>\n",
       "      <th>pre</th>\n",
       "      <th>MEMIT05</th>\n",
       "      <th>MEMIT38</th>\n",
       "      <th>MEMIT22_27</th>\n",
       "      <th>LoRA</th>\n",
       "    </tr>\n",
       "  </thead>\n",
       "  <tbody>\n",
       "    <tr>\n",
       "      <th>rewrite_acc</th>\n",
       "      <td>0.280607</td>\n",
       "      <td>0.995928</td>\n",
       "      <td>0.997302</td>\n",
       "      <td>0.159552</td>\n",
       "      <td>1.000000</td>\n",
       "    </tr>\n",
       "    <tr>\n",
       "      <th>portability Logical_Generalization_acc</th>\n",
       "      <td>0.484224</td>\n",
       "      <td>0.483088</td>\n",
       "      <td>0.484693</td>\n",
       "      <td>0.311632</td>\n",
       "      <td>0.496939</td>\n",
       "    </tr>\n",
       "    <tr>\n",
       "      <th>portability Subject_Aliasing_acc</th>\n",
       "      <td>0.204436</td>\n",
       "      <td>0.327567</td>\n",
       "      <td>0.362104</td>\n",
       "      <td>0.126711</td>\n",
       "      <td>0.459981</td>\n",
       "    </tr>\n",
       "    <tr>\n",
       "      <th>portability reasoning_acc</th>\n",
       "      <td>0.493948</td>\n",
       "      <td>0.543330</td>\n",
       "      <td>0.548001</td>\n",
       "      <td>0.317026</td>\n",
       "      <td>0.510097</td>\n",
       "    </tr>\n",
       "    <tr>\n",
       "      <th>locality Relation_Specificity_acc</th>\n",
       "      <td>NaN</td>\n",
       "      <td>0.694967</td>\n",
       "      <td>0.713413</td>\n",
       "      <td>0.637245</td>\n",
       "      <td>0.433432</td>\n",
       "    </tr>\n",
       "  </tbody>\n",
       "</table>\n",
       "</div>"
      ],
      "text/plain": [
       "                                             pre   MEMIT05   MEMIT38  \\\n",
       "rewrite_acc                             0.280607  0.995928  0.997302   \n",
       "portability Logical_Generalization_acc  0.484224  0.483088  0.484693   \n",
       "portability Subject_Aliasing_acc        0.204436  0.327567  0.362104   \n",
       "portability reasoning_acc               0.493948  0.543330  0.548001   \n",
       "locality Relation_Specificity_acc            NaN  0.694967  0.713413   \n",
       "\n",
       "                                        MEMIT22_27      LoRA  \n",
       "rewrite_acc                               0.159552  1.000000  \n",
       "portability Logical_Generalization_acc    0.311632  0.496939  \n",
       "portability Subject_Aliasing_acc          0.126711  0.459981  \n",
       "portability reasoning_acc                 0.317026  0.510097  \n",
       "locality Relation_Specificity_acc         0.637245  0.433432  "
      ]
     },
     "execution_count": 11,
     "metadata": {},
     "output_type": "execute_result"
    }
   ],
   "source": [
    "import pandas as pd\n",
    "metric_pd = pd.DataFrame(metrics)\n",
    "metric_pd"
   ]
  },
  {
   "cell_type": "code",
   "execution_count": 12,
   "metadata": {},
   "outputs": [
    {
     "data": {
      "text/plain": [
       "<AxesSubplot:>"
      ]
     },
     "execution_count": 12,
     "metadata": {},
     "output_type": "execute_result"
    },
    {
     "data": {
      "image/png": "[encoded data removed]",
      "text/plain": [
       "<Figure size 640x480 with 1 Axes>"
      ]
     },
     "metadata": {},
     "output_type": "display_data"
    }
   ],
   "source": [
    "# metric_pd.plot(kind='bar')\n",
    "metric_pd.plot(kind='barh')"
   ]
  }
 ],
 "metadata": {
  "kernelspec": {
   "display_name": "ke2torch23cu121",
   "language": "python",
   "name": "python3"
  },
  "language_info": {
   "codemirror_mode": {
    "name": "ipython",
    "version": 3
   },
   "file_extension": ".py",
   "mimetype": "text/x-python",
   "name": "python",
   "nbconvert_exporter": "python",
   "pygments_lexer": "ipython3",
   "version": "3.9.19"
  }
 },
 "nbformat": 4,
 "nbformat_minor": 2
}
