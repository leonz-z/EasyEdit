{
 "cells": [
  {
   "cell_type": "markdown",
   "metadata": {},
   "source": [
    "0-5"
   ]
  },
  {
   "cell_type": "code",
   "execution_count": 1,
   "metadata": {},
   "outputs": [],
   "source": [
    "metrics05 = {\n",
    "    'pre': {\n",
    "        'rewrite_acc': 0.28060724398157144, \n",
    "        'portability': {\n",
    "            'Logical_Generalization_acc': 0.48422419480587403, \n",
    "            'Subject_Aliasing_acc': 0.2044359949302915, \n",
    "            'reasoning_acc': 0.49394760772274\n",
    "            }\n",
    "    }, \n",
    "    'post': {\n",
    "        'rewrite_acc': 0.9959283179882717, \n",
    "        'locality': {\n",
    "            'Relation_Specificity_acc': 0.694967116662532\n",
    "            }, \n",
    "        'portability': {\n",
    "            'Logical_Generalization_acc': 0.4830881831798618, \n",
    "            'Subject_Aliasing_acc': 0.3275665399239544, \n",
    "            'reasoning_acc': 0.5433296928416551\n",
    "            }\n",
    "        }\n",
    "    }\n"
   ]
  },
  {
   "cell_type": "markdown",
   "metadata": {},
   "source": [
    "3-8"
   ]
  },
  {
   "cell_type": "code",
   "execution_count": 2,
   "metadata": {},
   "outputs": [
    {
     "data": {
      "text/plain": [
       "{'pre': {'rewrite_acc': 0.28060724398157144,\n",
       "  'portability': {'Logical_Generalization_acc': 0.48422419480587403,\n",
       "   'Subject_Aliasing_acc': 0.2044359949302915,\n",
       "   'reasoning_acc': 0.49394760772274}},\n",
       " 'post': {'rewrite_acc': 0.9973021086011093,\n",
       "  'locality': {'Relation_Specificity_acc': 0.7134131010685245},\n",
       "  'portability': {'Logical_Generalization_acc': 0.48469286061657546,\n",
       "   'Subject_Aliasing_acc': 0.36210392902408106,\n",
       "   'reasoning_acc': 0.5480009581768687}}}"
      ]
     },
     "execution_count": 2,
     "metadata": {},
     "output_type": "execute_result"
    }
   ],
   "source": [
    "metrics38 = {\n",
    "    'pre': {\n",
    "        'rewrite_acc': 0.28060724398157144, \n",
    "        'portability': {\n",
    "            'Logical_Generalization_acc': 0.48422419480587403, \n",
    "            'Subject_Aliasing_acc': 0.2044359949302915, \n",
    "            'reasoning_acc': 0.49394760772274\n",
    "            }\n",
    "        }, \n",
    "    'post': {\n",
    "        'rewrite_acc': 0.9973021086011093, \n",
    "        'locality': {\n",
    "            'Relation_Specificity_acc': 0.7134131010685245\n",
    "            }, \n",
    "        'portability': {\n",
    "                'Logical_Generalization_acc': 0.48469286061657546, \n",
    "                'Subject_Aliasing_acc': 0.36210392902408106, \n",
    "                'reasoning_acc': 0.5480009581768687\n",
    "                }\n",
    "            }\n",
    "        }\n",
    "metrics38"
   ]
  },
  {
   "cell_type": "code",
   "execution_count": 3,
   "metadata": {},
   "outputs": [
    {
     "data": {
      "text/plain": [
       "{'rewrite_acc': 0.28060724398157144,\n",
       " 'portability Logical_Generalization_acc': 0.48422419480587403,\n",
       " 'portability Subject_Aliasing_acc': 0.2044359949302915,\n",
       " 'portability reasoning_acc': 0.49394760772274}"
      ]
     },
     "execution_count": 3,
     "metadata": {},
     "output_type": "execute_result"
    }
   ],
   "source": [
    "pre = {}\n",
    "for k1 in metrics38['pre']:\n",
    "    if type(metrics38['pre'][k1]) == dict:\n",
    "        for k2 in metrics38['pre'][k1]:\n",
    "            pre[k1+' '+k2] = metrics38['pre'][k1][k2]\n",
    "    else:\n",
    "        pre[k1] = metrics38['pre'][k1]\n",
    "\n",
    "pre"
   ]
  },
  {
   "cell_type": "code",
   "execution_count": 4,
   "metadata": {},
   "outputs": [
    {
     "data": {
      "text/plain": [
       "{'rewrite_acc': 0.9973021086011093,\n",
       " 'locality Relation_Specificity_acc': 0.7134131010685245,\n",
       " 'portability Logical_Generalization_acc': 0.48469286061657546,\n",
       " 'portability Subject_Aliasing_acc': 0.36210392902408106,\n",
       " 'portability reasoning_acc': 0.5480009581768687}"
      ]
     },
     "execution_count": 4,
     "metadata": {},
     "output_type": "execute_result"
    }
   ],
   "source": [
    "post38 = {}\n",
    "for k1 in metrics38['post']:\n",
    "    if type(metrics38['post'][k1]) == dict:\n",
    "        for k2 in metrics38['post'][k1]:\n",
    "            post38[k1+' '+k2] = metrics38['post'][k1][k2]\n",
    "    else:\n",
    "        post38[k1] = metrics38['post'][k1]\n",
    "\n",
    "post38"
   ]
  },
  {
   "cell_type": "code",
   "execution_count": 5,
   "metadata": {},
   "outputs": [
    {
     "data": {
      "text/plain": [
       "{'rewrite_acc': 0.9959283179882717,\n",
       " 'locality Relation_Specificity_acc': 0.694967116662532,\n",
       " 'portability Logical_Generalization_acc': 0.4830881831798618,\n",
       " 'portability Subject_Aliasing_acc': 0.3275665399239544,\n",
       " 'portability reasoning_acc': 0.5433296928416551}"
      ]
     },
     "execution_count": 5,
     "metadata": {},
     "output_type": "execute_result"
    }
   ],
   "source": [
    "post05 = {}\n",
    "for k1 in metrics05['post']:\n",
    "    if type(metrics05['post'][k1]) == dict:\n",
    "        for k2 in metrics05['post'][k1]:\n",
    "            post05[k1+' '+k2] = metrics05['post'][k1][k2]\n",
    "    else:\n",
    "        post05[k1] = metrics05['post'][k1]\n",
    "\n",
    "post05"
   ]
  },
  {
   "cell_type": "code",
   "execution_count": 6,
   "metadata": {},
   "outputs": [
    {
     "data": {
      "text/plain": [
       "{'pre': {'rewrite_acc': 0.28060724398157144,\n",
       "  'portability Logical_Generalization_acc': 0.48422419480587403,\n",
       "  'portability Subject_Aliasing_acc': 0.2044359949302915,\n",
       "  'portability reasoning_acc': 0.49394760772274},\n",
       " 'post05': {'rewrite_acc': 0.9959283179882717,\n",
       "  'locality Relation_Specificity_acc': 0.694967116662532,\n",
       "  'portability Logical_Generalization_acc': 0.4830881831798618,\n",
       "  'portability Subject_Aliasing_acc': 0.3275665399239544,\n",
       "  'portability reasoning_acc': 0.5433296928416551},\n",
       " 'post38': {'rewrite_acc': 0.9973021086011093,\n",
       "  'locality Relation_Specificity_acc': 0.7134131010685245,\n",
       "  'portability Logical_Generalization_acc': 0.48469286061657546,\n",
       "  'portability Subject_Aliasing_acc': 0.36210392902408106,\n",
       "  'portability reasoning_acc': 0.5480009581768687}}"
      ]
     },
     "execution_count": 6,
     "metadata": {},
     "output_type": "execute_result"
    }
   ],
   "source": [
    "# pre['locality Relation_Specificity_acc'] = 0\n",
    "metrics = {\n",
    "    'pre': pre,\n",
    "    'post05': post05,\n",
    "    'post38': post38,\n",
    "}\n",
    "metrics"
   ]
  },
  {
   "cell_type": "code",
   "execution_count": 7,
   "metadata": {},
   "outputs": [
    {
     "data": {
      "text/html": [
       "<div>\n",
       "<style scoped>\n",
       "    .dataframe tbody tr th:only-of-type {\n",
       "        vertical-align: middle;\n",
       "    }\n",
       "\n",
       "    .dataframe tbody tr th {\n",
       "        vertical-align: top;\n",
       "    }\n",
       "\n",
       "    .dataframe thead th {\n",
       "        text-align: right;\n",
       "    }\n",
       "</style>\n",
       "<table border=\"1\" class=\"dataframe\">\n",
       "  <thead>\n",
       "    <tr style=\"text-align: right;\">\n",
       "      <th></th>\n",
       "      <th>pre</th>\n",
       "      <th>post05</th>\n",
       "      <th>post38</th>\n",
       "    </tr>\n",
       "  </thead>\n",
       "  <tbody>\n",
       "    <tr>\n",
       "      <th>rewrite_acc</th>\n",
       "      <td>0.280607</td>\n",
       "      <td>0.995928</td>\n",
       "      <td>0.997302</td>\n",
       "    </tr>\n",
       "    <tr>\n",
       "      <th>portability Logical_Generalization_acc</th>\n",
       "      <td>0.484224</td>\n",
       "      <td>0.483088</td>\n",
       "      <td>0.484693</td>\n",
       "    </tr>\n",
       "    <tr>\n",
       "      <th>portability Subject_Aliasing_acc</th>\n",
       "      <td>0.204436</td>\n",
       "      <td>0.327567</td>\n",
       "      <td>0.362104</td>\n",
       "    </tr>\n",
       "    <tr>\n",
       "      <th>portability reasoning_acc</th>\n",
       "      <td>0.493948</td>\n",
       "      <td>0.543330</td>\n",
       "      <td>0.548001</td>\n",
       "    </tr>\n",
       "    <tr>\n",
       "      <th>locality Relation_Specificity_acc</th>\n",
       "      <td>NaN</td>\n",
       "      <td>0.694967</td>\n",
       "      <td>0.713413</td>\n",
       "    </tr>\n",
       "  </tbody>\n",
       "</table>\n",
       "</div>"
      ],
      "text/plain": [
       "                                             pre    post05    post38\n",
       "rewrite_acc                             0.280607  0.995928  0.997302\n",
       "portability Logical_Generalization_acc  0.484224  0.483088  0.484693\n",
       "portability Subject_Aliasing_acc        0.204436  0.327567  0.362104\n",
       "portability reasoning_acc               0.493948  0.543330  0.548001\n",
       "locality Relation_Specificity_acc            NaN  0.694967  0.713413"
      ]
     },
     "execution_count": 7,
     "metadata": {},
     "output_type": "execute_result"
    }
   ],
   "source": [
    "import pandas as pd\n",
    "metric_pd = pd.DataFrame(metrics)\n",
    "metric_pd"
   ]
  },
  {
   "cell_type": "code",
   "execution_count": 10,
   "metadata": {},
   "outputs": [
    {
     "data": {
      "text/plain": [
       "<AxesSubplot:>"
      ]
     },
     "execution_count": 10,
     "metadata": {},
     "output_type": "execute_result"
    },
    {
     "data": {
      "image/png": "[encoded data removed]",
      "text/plain": [
       "<Figure size 640x480 with 1 Axes>"
      ]
     },
     "metadata": {},
     "output_type": "display_data"
    }
   ],
   "source": [
    "# metric_pd.plot(kind='bar')\n",
    "metric_pd.plot(kind='barh')"
   ]
  }
 ],
 "metadata": {
  "kernelspec": {
   "display_name": "ke2torch23cu121",
   "language": "python",
   "name": "python3"
  },
  "language_info": {
   "codemirror_mode": {
    "name": "ipython",
    "version": 3
   },
   "file_extension": ".py",
   "mimetype": "text/x-python",
   "name": "python",
   "nbconvert_exporter": "python",
   "pygments_lexer": "ipython3",
   "version": "3.9.19"
  }
 },
 "nbformat": 4,
 "nbformat_minor": 2
}
