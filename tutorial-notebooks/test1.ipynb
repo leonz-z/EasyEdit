{
 "cells": [
  {
   "cell_type": "code",
   "execution_count": null,
   "metadata": {},
   "outputs": [],
   "source": [
    "! pip list|grep datasets"
   ]
  },
  {
   "cell_type": "code",
   "execution_count": null,
   "metadata": {},
   "outputs": [],
   "source": [
    "from datasets import load_dataset\n",
    "\n",
    "ds_name = \"wikipedia\"\n",
    "raw_ds = load_dataset(\n",
    "    ds_name,\n",
    "    dict(wikitext=\"wikitext-103-raw-v1\", wikipedia=\"20200501.en\")[ds_name]\n",
    ")"
   ]
  },
  {
   "cell_type": "code",
   "execution_count": 2,
   "metadata": {},
   "outputs": [
    {
     "data": {
      "application/vnd.jupyter.widget-view+json": {
       "model_id": "725f36d67252468c82ee5200887f7140",
       "version_major": 2,
       "version_minor": 0
      },
      "text/plain": [
       "Downloading readme:   0%|          | 0.00/131k [00:00<?, ?B/s]"
      ]
     },
     "metadata": {},
     "output_type": "display_data"
    },
    {
     "data": {
      "application/vnd.jupyter.widget-view+json": {
       "model_id": "70f0bef362824de89b4f2c669571d8af",
       "version_major": 2,
       "version_minor": 0
      },
      "text/plain": [
       "Downloading data:   0%|          | 0.00/587M [00:00<?, ?B/s]"
      ]
     },
     "metadata": {},
     "output_type": "display_data"
    },
    {
     "data": {
      "application/vnd.jupyter.widget-view+json": {
       "model_id": "c04e77d35b6b46ef994559e3409b476c",
       "version_major": 2,
       "version_minor": 0
      },
      "text/plain": [
       "Downloading data:   0%|          | 0.00/264M [00:00<?, ?B/s]"
      ]
     },
     "metadata": {},
     "output_type": "display_data"
    },
    {
     "data": {
      "application/vnd.jupyter.widget-view+json": {
       "model_id": "8e55fe52e76648f7925e63d1ab190193",
       "version_major": 2,
       "version_minor": 0
      },
      "text/plain": [
       "Downloading data:   0%|          | 0.00/127M [00:00<?, ?B/s]"
      ]
     },
     "metadata": {},
     "output_type": "display_data"
    },
    {
     "data": {
      "application/vnd.jupyter.widget-view+json": {
       "model_id": "2ccf774f4c4248108e2baf73efec3dca",
       "version_major": 2,
       "version_minor": 0
      },
      "text/plain": [
       "Downloading data:   0%|          | 0.00/262M [00:00<?, ?B/s]"
      ]
     },
     "metadata": {},
     "output_type": "display_data"
    },
    {
     "data": {
      "application/vnd.jupyter.widget-view+json": {
       "model_id": "c99750b94b5b44e8b08072b8655db02c",
       "version_major": 2,
       "version_minor": 0
      },
      "text/plain": [
       "Downloading data:   0%|          | 0.00/257M [00:00<?, ?B/s]"
      ]
     },
     "metadata": {},
     "output_type": "display_data"
    },
    {
     "data": {
      "application/vnd.jupyter.widget-view+json": {
       "model_id": "c605b6463b5746e8a6d1446579654f18",
       "version_major": 2,
       "version_minor": 0
      },
      "text/plain": [
       "Downloading data:   0%|          | 0.00/225M [00:00<?, ?B/s]"
      ]
     },
     "metadata": {},
     "output_type": "display_data"
    },
    {
     "data": {
      "application/vnd.jupyter.widget-view+json": {
       "model_id": "3d092013fad7456994c2b02ce6689565",
       "version_major": 2,
       "version_minor": 0
      },
      "text/plain": [
       "Generating train split:   0%|          | 0/1384748 [00:00<?, ? examples/s]"
      ]
     },
     "metadata": {},
     "output_type": "display_data"
    }
   ],
   "source": [
    "from datasets import load_dataset\n",
    "\n",
    "ds = load_dataset(\"wikimedia/wikipedia\", \"20231101.zh\", cache_dir='/share/dataset/Wikipedia/')"
   ]
  },
  {
   "cell_type": "code",
   "execution_count": 3,
   "metadata": {},
   "outputs": [
    {
     "name": "stdout",
     "output_type": "stream",
     "text": [
      "downloads\n",
      "_share_dataset_Wikipedia_wikimedia___wikipedia_20231101.zh_0.0.0_b04c8d1ceb2f5cd4588862100d08de323dccfbaa.lock\n",
      "wikimedia___wikipedia\n",
      "wikipedia-cn-20230720-filtered.json\n"
     ]
    }
   ],
   "source": [
    "! ls /share/dataset/Wikipedia/"
   ]
  },
  {
   "cell_type": "code",
   "execution_count": null,
   "metadata": {},
   "outputs": [],
   "source": [
    "# pleisto/wikipedia-cn-20230720-filtered\n",
    "\n",
    "from datasets import load_dataset\n",
    "\n",
    "ds = load_dataset('/share/dataset/Wikipedia/')"
   ]
  },
  {
   "cell_type": "code",
   "execution_count": null,
   "metadata": {},
   "outputs": [],
   "source": [
    "ds['train']"
   ]
  },
  {
   "cell_type": "code",
   "execution_count": null,
   "metadata": {},
   "outputs": [],
   "source": [
    "ds = ds.map(lambda example: {'text': example['completion']}, remove_columns=['completion'])\n",
    "ds"
   ]
  },
  {
   "cell_type": "code",
   "execution_count": null,
   "metadata": {},
   "outputs": [],
   "source": [
    "ds['train'][0]"
   ]
  },
  {
   "cell_type": "code",
   "execution_count": null,
   "metadata": {},
   "outputs": [],
   "source": [
    "from datasets import load_dataset\n",
    "\n",
    "ds = load_dataset('/share/dataset/Wikipedia/')\n",
    "\n",
    "ds['train']\n",
    "Dataset({\n",
    "    features: ['source', 'completion'],\n",
    "    num_rows: 254547\n",
    "})\n",
    "\n",
    "ds['train'][0]\n",
    "\n",
    "{'source': 'wikipedia.zh2307',\n",
    " 'completion': '昭通机场（ZPZT）是位于中国'}"
   ]
  },
  {
   "cell_type": "code",
   "execution_count": null,
   "metadata": {},
   "outputs": [],
   "source": [
    "from datasets import load_dataset\n",
    "\n",
    "ds = load_dataset('/share/dataset/Wikipedia/')\n",
    "\n",
    "ds['train']\n",
    "Dataset({\n",
    "    features: ['source', 'completion'],\n",
    "    num_rows: 254547\n",
    "})\n",
    "\n",
    "ds['train'][0]\n",
    "\n",
    "{'source': 'wikipedia.zh2307',\n",
    " 'completion': '昭通机场（ZPZT）是位于中国'}"
   ]
  },
  {
   "cell_type": "code",
   "execution_count": null,
   "metadata": {},
   "outputs": [],
   "source": [
    "from datasets import load_dataset\n",
    "\n",
    "ds = load_dataset('/share/dataset/Wikipedia/')\n",
    "\n",
    "ds['train']\n",
    "Dataset({\n",
    "    features: ['source', 'completion'],\n",
    "    num_rows: 254547\n",
    "})\n",
    "\n",
    "ds['train'][0]\n",
    "\n",
    "{'source': 'wikipedia.zh2307',\n",
    " 'completion': '昭通机场（ZPZT）是位于中国'}"
   ]
  },
  {
   "cell_type": "code",
   "execution_count": null,
   "metadata": {},
   "outputs": [],
   "source": [
    "from datasets import load_dataset\n",
    "\n",
    "ds = load_dataset('/share/dataset/Wikipedia/')\n",
    "\n",
    "ds['train']\n",
    "Dataset({\n",
    "    features: ['source', 'completion'],\n",
    "    num_rows: 254547\n",
    "})\n",
    "\n",
    "ds['train'][0]\n",
    "\n",
    "{'source': 'wikipedia.zh2307',\n",
    " 'completion': '昭通机场（ZPZT）是位于中国'}"
   ]
  },
  {
   "cell_type": "code",
   "execution_count": null,
   "metadata": {},
   "outputs": [],
   "source": [
    "from datasets import load_dataset\n",
    "\n",
    "ds = load_dataset('/share/dataset/Wikipedia/')\n",
    "\n",
    "ds['train']\n",
    "Dataset({\n",
    "    features: ['source', 'completion'],\n",
    "    num_rows: 254547\n",
    "})\n",
    "\n",
    "ds['train'][0]\n",
    "\n",
    "{'source': 'wikipedia.zh2307',\n",
    " 'completion': '昭通机场（ZPZT）是位于中国'}"
   ]
  },
  {
   "cell_type": "code",
   "execution_count": null,
   "metadata": {},
   "outputs": [],
   "source": [
    "from datasets import load_dataset\n",
    "\n",
    "ds = load_dataset('/share/dataset/Wikipedia/')\n",
    "\n",
    "ds['train']\n",
    "Dataset({\n",
    "    features: ['source', 'completion'],\n",
    "    num_rows: 254547\n",
    "})\n",
    "\n",
    "ds['train'][0]\n",
    "\n",
    "{'source': 'wikipedia.zh2307',\n",
    " 'completion': '昭通机场（ZPZT）是位于中国'}"
   ]
  },
  {
   "cell_type": "code",
   "execution_count": null,
   "metadata": {},
   "outputs": [],
   "source": [
    "from datasets import load_dataset\n",
    "\n",
    "ds = load_dataset('/share/dataset/Wikipedia/')\n",
    "\n",
    "ds['train']\n",
    "Dataset({\n",
    "    features: ['source', 'completion'],\n",
    "    num_rows: 254547\n",
    "})\n",
    "\n",
    "ds['train'][0]\n",
    "\n",
    "{'source': 'wikipedia.zh2307',\n",
    " 'completion': '昭通机场（ZPZT）是位于中国'}"
   ]
  },
  {
   "cell_type": "code",
   "execution_count": null,
   "metadata": {},
   "outputs": [],
   "source": [
    "from datasets import load_dataset\n",
    "\n",
    "ds = load_dataset('/share/dataset/Wikipedia/')\n",
    "\n",
    "ds['train']\n",
    "Dataset({\n",
    "    features: ['source', 'completion'],\n",
    "    num_rows: 254547\n",
    "})\n",
    "\n",
    "ds['train'][0]\n",
    "\n",
    "{'source': 'wikipedia.zh2307',\n",
    " 'completion': '昭通机场（ZPZT）是位于中国'}"
   ]
  },
  {
   "cell_type": "code",
   "execution_count": null,
   "metadata": {},
   "outputs": [],
   "source": [
    "from datasets import load_dataset\n",
    "\n",
    "ds = load_dataset('/share/dataset/Wikipedia/')\n",
    "\n",
    "ds['train']\n",
    "Dataset({\n",
    "    features: ['source', 'completion'],\n",
    "    num_rows: 254547\n",
    "})\n",
    "\n",
    "ds['train'][0]\n",
    "\n",
    "{'source': 'wikipedia.zh2307',\n",
    " 'completion': '昭通机场（ZPZT）是位于中国'}"
   ]
  },
  {
   "cell_type": "code",
   "execution_count": null,
   "metadata": {},
   "outputs": [],
   "source": [
    "from datasets import load_dataset\n",
    "\n",
    "ds = load_dataset('/share/dataset/Wikipedia/')\n",
    "\n",
    "ds['train']\n",
    "Dataset({\n",
    "    features: ['source', 'completion'],\n",
    "    num_rows: 254547\n",
    "})\n",
    "\n",
    "ds['train'][0]\n",
    "\n",
    "{'source': 'wikipedia.zh2307',\n",
    " 'completion': '昭通机场（ZPZT）是位于中国'}"
   ]
  },
  {
   "cell_type": "code",
   "execution_count": null,
   "metadata": {},
   "outputs": [],
   "source": [
    "from datasets import load_dataset\n",
    "\n",
    "ds = load_dataset('/share/dataset/Wikipedia/')\n",
    "\n",
    "ds['train']\n",
    "Dataset({\n",
    "    features: ['source', 'completion'],\n",
    "    num_rows: 254547\n",
    "})\n",
    "\n",
    "ds['train'][0]\n",
    "\n",
    "{'source': 'wikipedia.zh2307',\n",
    " 'completion': '昭通机场（ZPZT）是位于中国'}"
   ]
  },
  {
   "cell_type": "code",
   "execution_count": null,
   "metadata": {},
   "outputs": [],
   "source": [
    "from datasets import load_dataset\n",
    "\n",
    "ds = load_dataset('/share/dataset/Wikipedia/')\n",
    "\n",
    "ds['train']\n",
    "Dataset({\n",
    "    features: ['source', 'completion'],\n",
    "    num_rows: 254547\n",
    "})\n",
    "\n",
    "ds['train'][0]\n",
    "\n",
    "{'source': 'wikipedia.zh2307',\n",
    " 'completion': '昭通机场（ZPZT）是位于中国'}"
   ]
  },
  {
   "cell_type": "code",
   "execution_count": null,
   "metadata": {},
   "outputs": [],
   "source": [
    "from datasets import load_dataset\n",
    "\n",
    "ds = load_dataset('/share/dataset/Wikipedia/')\n",
    "\n",
    "ds['train']\n",
    "Dataset({\n",
    "    features: ['source', 'completion'],\n",
    "    num_rows: 254547\n",
    "})\n",
    "\n",
    "ds['train'][0]\n",
    "\n",
    "{'source': 'wikipedia.zh2307',\n",
    " 'completion': '昭通机场（ZPZT）是位于中国'}"
   ]
  },
  {
   "cell_type": "code",
   "execution_count": null,
   "metadata": {},
   "outputs": [],
   "source": [
    "def process_queries(n, board, queries):\n",
    "    results = []\n",
    "    for query in queries:\n",
    "        x1, y1, x2, y2 = query\n",
    "        x, y = x1, y1\n",
    "        while x1 <= x <= x2 and y1 <= y <= y2:\n",
    "            if board[x-1][y-1] == 0:\n",
    "                x += 1\n",
    "                if x > x2:\n",
    "                    x -= 1\n",
    "                    break\n",
    "            else:\n",
    "                y += 1\n",
    "                if y > y2:\n",
    "                    y -= 1\n",
    "                    break\n",
    "        #     print(x, y)\n",
    "        # print(\"=\"*10)\n",
    "        results.append((x,y))\n",
    "    return results\n",
    "\n",
    "# 读取输入\n",
    "# n = int(input())\n",
    "# grid = [list(map(int, input().split())) for _ in range(n)]\n",
    "# q = int(input())\n",
    "# queries = [tuple(map(int, input().split())) for _ in range(q)]\n",
    "n=4\n",
    "grid=[[1,0,0,1],[0,0,1,1],[1,0,1,0],[0,1,1,1]]\n",
    "q=2\n",
    "queries=[(2,2,4,4),(2,3,3,3)]\n",
    "\n",
    "# 计算并输出结果\n",
    "results = process_queries(n, grid, queries)\n",
    "for result in results:\n",
    "    print(result[0], result[1])"
   ]
  },
  {
   "cell_type": "code",
   "execution_count": null,
   "metadata": {},
   "outputs": [],
   "source": [
    "def fn(a)->int:\n",
    "    b =list(range(0,2))\n",
    "    return b[0:1]\n",
    "f = fn(a=1)\n",
    "print(fn.__defaults__)\n",
    "print(f)"
   ]
  },
  {
   "cell_type": "code",
   "execution_count": null,
   "metadata": {},
   "outputs": [],
   "source": [
    "\"_\".join([\"hello\", \"world\"]),\"_\".join([])"
   ]
  },
  {
   "cell_type": "code",
   "execution_count": null,
   "metadata": {},
   "outputs": [],
   "source": [
    "from tqdm import tqdm\n",
    "\n",
    "for i, idx in tqdm(enumerate(range(0, 12, 2)), total=int(6)):\n",
    "    print(i, idx)"
   ]
  },
  {
   "cell_type": "code",
   "execution_count": null,
   "metadata": {},
   "outputs": [],
   "source": [
    "data = [(\"Hello\", \"Bonjour\"), (\"How are you?\", \"Comment ça va?\"), (\"I'm fine, thank you.\", \"Je suis très heureux, merci.\")]\n",
    "\n",
    "txt, tgt = zip(*data)\n",
    "txt, tgt"
   ]
  },
  {
   "cell_type": "code",
   "execution_count": null,
   "metadata": {},
   "outputs": [],
   "source": [
    "import random\n",
    "\n",
    "list1 = [1, 2, 3, 4, 5]\n",
    "random.shuffle(list1)\n",
    "list1"
   ]
  },
  {
   "cell_type": "code",
   "execution_count": null,
   "metadata": {},
   "outputs": [],
   "source": [
    "import torch\n",
    "\n",
    "A = torch.zeros(4,8)\n",
    "B = torch.ones(4,4)\n",
    "idx = [2,4,6,7]\n",
    "A[:,idx] = B\n",
    "A"
   ]
  },
  {
   "cell_type": "code",
   "execution_count": null,
   "metadata": {},
   "outputs": [],
   "source": [
    "import re\n",
    "\n",
    "target_name = \"'model.layers.0.mlp.up_proj\"\n",
    "match = re.match(r\".*\\.[^.]*\\.(\\d+)\\.\", target_name)"
   ]
  },
  {
   "cell_type": "code",
   "execution_count": null,
   "metadata": {},
   "outputs": [],
   "source": [
    "int(match.group(1))"
   ]
  },
  {
   "cell_type": "code",
   "execution_count": null,
   "metadata": {},
   "outputs": [],
   "source": [
    "\".\".join(target_name.split(\".\")[-2:])"
   ]
  },
  {
   "cell_type": "code",
   "execution_count": null,
   "metadata": {},
   "outputs": [],
   "source": [
    "torch.empty((0, 2)), torch.empty((0, 0)), torch.empty((2, 0))"
   ]
  },
  {
   "cell_type": "code",
   "execution_count": null,
   "metadata": {},
   "outputs": [],
   "source": [
    "d1 = {\n",
    "    \"a\": 1,\n",
    "    \"b\": 2,\n",
    "    \"c\": 3\n",
    "}\n",
    "\n",
    "d2 = {\n",
    "    \"a\": 10,\n",
    "    \"e\": 20,\n",
    "    \"d\": 40\n",
    "}\n",
    "from itertools import chain\n",
    "list(chain(d1.keys(), d2.keys()))"
   ]
  },
  {
   "cell_type": "code",
   "execution_count": null,
   "metadata": {},
   "outputs": [],
   "source": []
  }
 ],
 "metadata": {
  "kernelspec": {
   "display_name": "ke2torch23cu121",
   "language": "python",
   "name": "python3"
  },
  "language_info": {
   "codemirror_mode": {
    "name": "ipython",
    "version": 3
   },
   "file_extension": ".py",
   "mimetype": "text/x-python",
   "name": "python",
   "nbconvert_exporter": "python",
   "pygments_lexer": "ipython3",
   "version": "3.9.19"
  }
 },
 "nbformat": 4,
 "nbformat_minor": 2
}
